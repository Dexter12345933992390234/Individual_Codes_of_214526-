{
  "nbformat": 4,
  "nbformat_minor": 0,
  "metadata": {
    "colab": {
      "name": "myfirstpythonprogram_214526",
      "provenance": [],
      "authorship_tag": "ABX9TyOzuPhbIs/5CMczIXlhYEPT",
      "include_colab_link": true
    },
    "kernelspec": {
      "name": "python3",
      "display_name": "Python 3"
    },
    "language_info": {
      "name": "python"
    }
  },
  "cells": [
    {
      "cell_type": "markdown",
      "metadata": {
        "id": "view-in-github",
        "colab_type": "text"
      },
      "source": [
        "<a href=\"https://colab.research.google.com/github/Dexter12345933992390234/Individual_Codes_of_214526-/blob/main/myfirstpythonprogram_214526.ipynb\" target=\"_parent\"><img src=\"https://colab.research.google.com/assets/colab-badge.svg\" alt=\"Open In Colab\"/></a>"
      ]
    },
    {
      "cell_type": "markdown",
      "source": [
        ""
      ],
      "metadata": {
        "id": "-Lnholl4hVd-"
      }
    },
    {
      "cell_type": "code",
      "execution_count": null,
      "metadata": {
        "id": "18IxVywWSz3D"
      },
      "outputs": [],
      "source": [
        ""
      ]
    },
    {
      "cell_type": "code",
      "execution_count": 75,
      "metadata": {
        "id": "qea0nHem4yMJ",
        "colab": {
          "base_uri": "https://localhost:8080/"
        },
        "outputId": "4ba03341-67ff-4439-8fd8-6a4632cb1ec9"
      },
      "outputs": [
        {
          "output_type": "stream",
          "name": "stdout",
          "text": [
            "sairam\n",
            "sai\n",
            "sai\n",
            "Aravind\n",
            "98\n"
          ]
        }
      ],
      "source": [
        "print('sairam')\n",
        "print('sai')\n",
        "print (\"sai\")\n",
        "print ('Aravind')\n",
        "a =98\n",
        "print (a)\n",
        "\n",
        "\n",
        "\n"
      ]
    },
    {
      "cell_type": "code",
      "source": [
        "print(\"Hello, World\")\n",
        "if 5 > 2 :\n",
        " print(\"five is greater than two\")\n",
        " if 9 > 2 :\n",
        "  print (\"nine  is greater than two\")\n",
        "else :\n",
        "   print (\"wrong\")\n",
        "\n",
        " "
      ],
      "metadata": {
        "id": "XFFLY2dsLNpw",
        "colab": {
          "base_uri": "https://localhost:8080/"
        },
        "outputId": "baf050f4-8059-4b65-d0c9-2ae5f78718e9"
      },
      "execution_count": 76,
      "outputs": [
        {
          "output_type": "stream",
          "name": "stdout",
          "text": [
            "Hello, World\n",
            "five is greater than two\n",
            "nine  is greater than two\n"
          ]
        }
      ]
    },
    {
      "cell_type": "code",
      "source": [
        "a = type (8)\n",
        "print (a)\n",
        "type (6.33)"
      ],
      "metadata": {
        "id": "BBJK40NW4Tdg",
        "colab": {
          "base_uri": "https://localhost:8080/"
        },
        "outputId": "0d152f0c-daec-4801-e45a-cbe13fe46e0b"
      },
      "execution_count": 77,
      "outputs": [
        {
          "output_type": "stream",
          "name": "stdout",
          "text": [
            "<class 'int'>\n"
          ]
        },
        {
          "output_type": "execute_result",
          "data": {
            "text/plain": [
              "float"
            ]
          },
          "metadata": {},
          "execution_count": 77
        }
      ]
    },
    {
      "cell_type": "code",
      "source": [
        "float (9)"
      ],
      "metadata": {
        "id": "ZzDwELB-6e93",
        "colab": {
          "base_uri": "https://localhost:8080/"
        },
        "outputId": "ee02b36d-343f-49f0-8034-0457f7b92153"
      },
      "execution_count": 78,
      "outputs": [
        {
          "output_type": "execute_result",
          "data": {
            "text/plain": [
              "9.0"
            ]
          },
          "metadata": {},
          "execution_count": 78
        }
      ]
    },
    {
      "cell_type": "code",
      "source": [
        "str(1)"
      ],
      "metadata": {
        "id": "GsfKKiU9657L",
        "colab": {
          "base_uri": "https://localhost:8080/",
          "height": 35
        },
        "outputId": "0c8e5b42-a967-49d6-be84-f67f948078ec"
      },
      "execution_count": 79,
      "outputs": [
        {
          "output_type": "execute_result",
          "data": {
            "text/plain": [
              "'1'"
            ],
            "application/vnd.google.colaboratory.intrinsic+json": {
              "type": "string"
            }
          },
          "metadata": {},
          "execution_count": 79
        }
      ]
    },
    {
      "cell_type": "code",
      "source": [
        "True"
      ],
      "metadata": {
        "id": "pbL3WmgO7TrK",
        "colab": {
          "base_uri": "https://localhost:8080/"
        },
        "outputId": "c008c55c-8298-44e5-894e-aef431dd43f4"
      },
      "execution_count": 80,
      "outputs": [
        {
          "output_type": "execute_result",
          "data": {
            "text/plain": [
              "True"
            ]
          },
          "metadata": {},
          "execution_count": 80
        }
      ]
    },
    {
      "cell_type": "code",
      "source": [
        "False\n"
      ],
      "metadata": {
        "id": "l-RhQ5CY7TyA",
        "colab": {
          "base_uri": "https://localhost:8080/"
        },
        "outputId": "74e6ba40-c973-44d8-c17c-bcf17a9d3233"
      },
      "execution_count": 81,
      "outputs": [
        {
          "output_type": "execute_result",
          "data": {
            "text/plain": [
              "False"
            ]
          },
          "metadata": {},
          "execution_count": 81
        }
      ]
    },
    {
      "cell_type": "code",
      "source": [
        "bool(0)"
      ],
      "metadata": {
        "id": "IHYM3_Dp7_l0",
        "colab": {
          "base_uri": "https://localhost:8080/"
        },
        "outputId": "ed55f421-bc72-4f7e-e7f9-0f2ab440a366"
      },
      "execution_count": 82,
      "outputs": [
        {
          "output_type": "execute_result",
          "data": {
            "text/plain": [
              "False"
            ]
          },
          "metadata": {},
          "execution_count": 82
        }
      ]
    },
    {
      "cell_type": "code",
      "source": [
        "int(False)"
      ],
      "metadata": {
        "id": "1HRe5Z5r8DLb",
        "colab": {
          "base_uri": "https://localhost:8080/"
        },
        "outputId": "845b59b6-a72c-4ee1-ee77-57a8e745ddad"
      },
      "execution_count": 83,
      "outputs": [
        {
          "output_type": "execute_result",
          "data": {
            "text/plain": [
              "0"
            ]
          },
          "metadata": {},
          "execution_count": 83
        }
      ]
    },
    {
      "cell_type": "code",
      "source": [
        "float(True)"
      ],
      "metadata": {
        "id": "kYl_VdWW8NrB",
        "colab": {
          "base_uri": "https://localhost:8080/"
        },
        "outputId": "8069a9bd-95d0-46c8-d9dc-dddb4d305e5e"
      },
      "execution_count": 84,
      "outputs": [
        {
          "output_type": "execute_result",
          "data": {
            "text/plain": [
              "1.0"
            ]
          },
          "metadata": {},
          "execution_count": 84
        }
      ]
    },
    {
      "cell_type": "code",
      "source": [
        "a = 9//2\n",
        "print(\"coficient is\",a)"
      ],
      "metadata": {
        "id": "CbFab9Ff9P1v",
        "colab": {
          "base_uri": "https://localhost:8080/"
        },
        "outputId": "d871a033-171b-425f-e72f-98791aa991ab"
      },
      "execution_count": 85,
      "outputs": [
        {
          "output_type": "stream",
          "name": "stdout",
          "text": [
            "coficient is 4\n"
          ]
        }
      ]
    },
    {
      "cell_type": "code",
      "source": [
        "p = 9%2\n",
        "print (p)\n"
      ],
      "metadata": {
        "id": "h9jvkR219f7x",
        "colab": {
          "base_uri": "https://localhost:8080/"
        },
        "outputId": "84e0d672-36dd-4ecb-841b-3ae918effb6b"
      },
      "execution_count": 86,
      "outputs": [
        {
          "output_type": "stream",
          "name": "stdout",
          "text": [
            "1\n"
          ]
        }
      ]
    },
    {
      "cell_type": "code",
      "source": [
        "\n",
        "a = type (99)\n",
        "print (a)\n",
        "type (9.3)"
      ],
      "metadata": {
        "id": "P5rmG_2t4UIH"
      },
      "execution_count": null,
      "outputs": []
    },
    {
      "cell_type": "code",
      "source": [
        "int(False)"
      ],
      "metadata": {
        "id": "1Dr-KobE5nWz",
        "colab": {
          "base_uri": "https://localhost:8080/"
        },
        "outputId": "4e39915c-c3d4-4d8e-f2dd-1c57fa62282a"
      },
      "execution_count": 88,
      "outputs": [
        {
          "output_type": "execute_result",
          "data": {
            "text/plain": [
              "0"
            ]
          },
          "metadata": {},
          "execution_count": 88
        }
      ]
    },
    {
      "cell_type": "code",
      "source": [
        "name = \"Aravind\"\n",
        "print (name[2])"
      ],
      "metadata": {
        "id": "xIyf6MucRjCQ",
        "colab": {
          "base_uri": "https://localhost:8080/"
        },
        "outputId": "1284bc8f-5212-45ba-e164-36ea3311f76b"
      },
      "execution_count": 89,
      "outputs": [
        {
          "output_type": "stream",
          "name": "stdout",
          "text": [
            "a\n"
          ]
        }
      ]
    },
    {
      "cell_type": "code",
      "source": [
        "print (name[-5])"
      ],
      "metadata": {
        "id": "4ldcQsWrSK9H",
        "colab": {
          "base_uri": "https://localhost:8080/"
        },
        "outputId": "fbff57bf-17bd-42f4-c715-b45eb5c9ba86"
      },
      "execution_count": 90,
      "outputs": [
        {
          "output_type": "stream",
          "name": "stdout",
          "text": [
            "a\n"
          ]
        }
      ]
    },
    {
      "cell_type": "code",
      "source": [
        "len ('Aravind')"
      ],
      "metadata": {
        "id": "qY-pBiPcSnR1",
        "colab": {
          "base_uri": "https://localhost:8080/"
        },
        "outputId": "40024e22-0d0d-497d-a696-1c55027589f7"
      },
      "execution_count": 91,
      "outputs": [
        {
          "output_type": "execute_result",
          "data": {
            "text/plain": [
              "7"
            ]
          },
          "metadata": {},
          "execution_count": 91
        }
      ]
    },
    {
      "cell_type": "code",
      "source": [
        "name[0:4]"
      ],
      "metadata": {
        "id": "fwAT9NAjYVL0",
        "colab": {
          "base_uri": "https://localhost:8080/",
          "height": 35
        },
        "outputId": "af26161e-acfa-4bf3-b302-cfe4ea8fca6f"
      },
      "execution_count": 92,
      "outputs": [
        {
          "output_type": "execute_result",
          "data": {
            "text/plain": [
              "'Arav'"
            ],
            "application/vnd.google.colaboratory.intrinsic+json": {
              "type": "string"
            }
          },
          "metadata": {},
          "execution_count": 92
        }
      ]
    },
    {
      "cell_type": "code",
      "source": [
        "name [::2]"
      ],
      "metadata": {
        "id": "ilry8DregAee",
        "colab": {
          "base_uri": "https://localhost:8080/",
          "height": 35
        },
        "outputId": "dab90155-9be9-4816-d956-35ca93fd9344"
      },
      "execution_count": 93,
      "outputs": [
        {
          "output_type": "execute_result",
          "data": {
            "text/plain": [
              "'Aaid'"
            ],
            "application/vnd.google.colaboratory.intrinsic+json": {
              "type": "string"
            }
          },
          "metadata": {},
          "execution_count": 93
        }
      ]
    },
    {
      "cell_type": "code",
      "source": [
        "name [0:5:3]"
      ],
      "metadata": {
        "id": "rqgNtcxdhla3",
        "colab": {
          "base_uri": "https://localhost:8080/",
          "height": 35
        },
        "outputId": "4e4514f8-87f0-4b4a-f8ba-aeff033bb8eb"
      },
      "execution_count": 94,
      "outputs": [
        {
          "output_type": "execute_result",
          "data": {
            "text/plain": [
              "'Av'"
            ],
            "application/vnd.google.colaboratory.intrinsic+json": {
              "type": "string"
            }
          },
          "metadata": {},
          "execution_count": 94
        }
      ]
    },
    {
      "cell_type": "code",
      "source": [
        "  print (name +   \"king\")"
      ],
      "metadata": {
        "id": "lyFcWTJ1jDzA",
        "colab": {
          "base_uri": "https://localhost:8080/"
        },
        "outputId": "b6faaac2-616b-49ee-f5f9-e796aa1ddba6"
      },
      "execution_count": 95,
      "outputs": [
        {
          "output_type": "stream",
          "name": "stdout",
          "text": [
            "Aravindking\n"
          ]
        }
      ]
    },
    {
      "cell_type": "code",
      "source": [
        "b = 23\n",
        "h =89\n",
        "area = 1/2*b*h\n",
        "print (area)"
      ],
      "metadata": {
        "id": "kg9gu5usjpLa",
        "colab": {
          "base_uri": "https://localhost:8080/"
        },
        "outputId": "06b808d3-5212-4804-93a1-605a8004d7bd"
      },
      "execution_count": 96,
      "outputs": [
        {
          "output_type": "stream",
          "name": "stdout",
          "text": [
            "1023.5\n"
          ]
        }
      ]
    },
    {
      "cell_type": "code",
      "source": [
        "name1 = \" Earth revolves around the sun \"\n",
        "print (name1 [6:15])\n"
      ],
      "metadata": {
        "id": "7bI0edsrlNOg",
        "colab": {
          "base_uri": "https://localhost:8080/"
        },
        "outputId": "fb33729e-d2e0-467e-cea6-02a7e20ae304"
      },
      "execution_count": 97,
      "outputs": [
        {
          "output_type": "stream",
          "name": "stdout",
          "text": [
            " revolves\n"
          ]
        }
      ]
    },
    {
      "cell_type": "code",
      "source": [
        "name1 [-4:-1]"
      ],
      "metadata": {
        "id": "qw28zDNC47xI",
        "colab": {
          "base_uri": "https://localhost:8080/",
          "height": 35
        },
        "outputId": "9a140fa3-4d96-4a41-d9ee-482c53ba740c"
      },
      "execution_count": 98,
      "outputs": [
        {
          "output_type": "execute_result",
          "data": {
            "text/plain": [
              "'sun'"
            ],
            "application/vnd.google.colaboratory.intrinsic+json": {
              "type": "string"
            }
          },
          "metadata": {},
          "execution_count": 98
        }
      ]
    },
    {
      "cell_type": "code",
      "source": [
        "name2 = \"I love eating\"\n",
        "name3 = \" veggies \"\n",
        "name4 = \" fruits\"\n",
        "print (name2 + name3 + \"and\" + name4)"
      ],
      "metadata": {
        "id": "KvBGlNIt5OVg",
        "colab": {
          "base_uri": "https://localhost:8080/"
        },
        "outputId": "b87736cb-5376-4ed1-d1bf-e76b534f4262"
      },
      "execution_count": 99,
      "outputs": [
        {
          "output_type": "stream",
          "name": "stdout",
          "text": [
            "I love eating veggies and fruits\n"
          ]
        }
      ]
    },
    {
      "cell_type": "code",
      "source": [
        "num = \" 4 \"\n",
        "print (name2 + num + name4 + \" everyday\")"
      ],
      "metadata": {
        "id": "UTIrOzLr8aru",
        "colab": {
          "base_uri": "https://localhost:8080/"
        },
        "outputId": "d525bb1c-bb9e-48cb-ac4a-636b0a971ad5"
      },
      "execution_count": 100,
      "outputs": [
        {
          "output_type": "stream",
          "name": "stdout",
          "text": [
            "I love eating 4  fruits everyday\n"
          ]
        }
      ]
    },
    {
      "cell_type": "code",
      "source": [
        "p = float (input ('p =  '))\n",
        "t = float (input ('t = ')) \n",
        "r = float (input ('r =  '))\n",
        "ptr = ((t - p)* 100 ) / (p* r)\n",
        "print (ptr)"
      ],
      "metadata": {
        "id": "Udb4_x8V-tFY",
        "colab": {
          "base_uri": "https://localhost:8080/"
        },
        "outputId": "ce8e28b1-3e7f-488e-8750-492edb08d8fc"
      },
      "execution_count": 101,
      "outputs": [
        {
          "output_type": "stream",
          "name": "stdout",
          "text": [
            "p =  23\n",
            "t = 1123\n",
            "r =  322\n",
            "14.852822036186875\n"
          ]
        }
      ]
    },
    {
      "cell_type": "code",
      "source": [
        "cost = 5\n",
        "paid = 10\n",
        "returns = (paid - cost)\n",
        "print (returns)"
      ],
      "metadata": {
        "id": "bCfZJ1UcC2Kl",
        "colab": {
          "base_uri": "https://localhost:8080/"
        },
        "outputId": "02b34efe-684f-46ff-d06e-fa59f84f182a"
      },
      "execution_count": 102,
      "outputs": [
        {
          "output_type": "stream",
          "name": "stdout",
          "text": [
            "5\n"
          ]
        }
      ]
    },
    {
      "cell_type": "code",
      "source": [
        "2 * (3 + 9) / 5\n"
      ],
      "metadata": {
        "id": "GXWcQMdKOND0",
        "colab": {
          "base_uri": "https://localhost:8080/"
        },
        "outputId": "16c831d8-61c4-4916-ffe9-58fdf13bcbd7"
      },
      "execution_count": 103,
      "outputs": [
        {
          "output_type": "execute_result",
          "data": {
            "text/plain": [
              "4.8"
            ]
          },
          "metadata": {},
          "execution_count": 103
        }
      ]
    },
    {
      "cell_type": "code",
      "source": [
        "5 // (4 + 5) % 4\n",
        "\n"
      ],
      "metadata": {
        "id": "JqRldfmUNzr1",
        "colab": {
          "base_uri": "https://localhost:8080/"
        },
        "outputId": "047bc745-cb41-424b-b439-0045b3fda5a7"
      },
      "execution_count": 104,
      "outputs": [
        {
          "output_type": "execute_result",
          "data": {
            "text/plain": [
              "0"
            ]
          },
          "metadata": {},
          "execution_count": 104
        }
      ]
    },
    {
      "cell_type": "code",
      "source": [
        "2 * 3 + 9 / 5"
      ],
      "metadata": {
        "id": "Q9mbjQAxPJ6N",
        "colab": {
          "base_uri": "https://localhost:8080/"
        },
        "outputId": "06868f34-304a-4ae3-a868-37ac709ab9ea"
      },
      "execution_count": 105,
      "outputs": [
        {
          "output_type": "execute_result",
          "data": {
            "text/plain": [
              "7.8"
            ]
          },
          "metadata": {},
          "execution_count": 105
        }
      ]
    },
    {
      "cell_type": "code",
      "source": [
        "r = float(input('R = ')) \n",
        "t1 = float(input('Larger Time = ')) \n",
        "t2 = float(input('Shorter Time = ')) \n",
        "dif = float(input('Difference between interests : '))\n",
        "\n",
        "si1 = (p*r*t1)/100\n",
        "si2 = (p*r*t2)/100\n",
        "p = (dif / r * (t1 - t2)) * 100\n",
        "print(p)"
      ],
      "metadata": {
        "colab": {
          "base_uri": "https://localhost:8080/"
        },
        "id": "VZ_DM9KwRpM_",
        "outputId": "c732c857-3ba1-4798-ef6e-a69858492ed3"
      },
      "execution_count": 106,
      "outputs": [
        {
          "output_type": "stream",
          "name": "stdout",
          "text": [
            "R = 34\n",
            "Larger Time = 123\n",
            "Shorter Time = 321\n",
            "Difference between interests : 2312\n",
            "-1346400.0\n"
          ]
        }
      ]
    },
    {
      "cell_type": "code",
      "source": [
        "2 ** (3*3)\n",
        "\n"
      ],
      "metadata": {
        "id": "jaHLEW6cOw2r",
        "colab": {
          "base_uri": "https://localhost:8080/"
        },
        "outputId": "c86aa413-cd05-472a-f7ff-cf9dc729c38c"
      },
      "execution_count": 107,
      "outputs": [
        {
          "output_type": "execute_result",
          "data": {
            "text/plain": [
              "512"
            ]
          },
          "metadata": {},
          "execution_count": 107
        }
      ]
    },
    {
      "cell_type": "code",
      "source": [
        "2**3\n"
      ],
      "metadata": {
        "id": "fp_Fm7cDPkQd",
        "colab": {
          "base_uri": "https://localhost:8080/"
        },
        "outputId": "95415d1d-1c98-49b3-b19a-4632c97b443a"
      },
      "execution_count": 108,
      "outputs": [
        {
          "output_type": "execute_result",
          "data": {
            "text/plain": [
              "8"
            ]
          },
          "metadata": {},
          "execution_count": 108
        }
      ]
    },
    {
      "cell_type": "code",
      "source": [
        "1 > 0"
      ],
      "metadata": {
        "id": "wcAQ91JbR0Um",
        "colab": {
          "base_uri": "https://localhost:8080/"
        },
        "outputId": "b5b7e26c-eb9c-4d05-964b-6bfe5f59956f"
      },
      "execution_count": 109,
      "outputs": [
        {
          "output_type": "execute_result",
          "data": {
            "text/plain": [
              "True"
            ]
          },
          "metadata": {},
          "execution_count": 109
        }
      ]
    },
    {
      "cell_type": "code",
      "source": [
        "# and operator true and true will be true\n",
        "# and operator true and false will be false\n",
        "# and operator false and true will be false\n",
        "# and operator false and false will be false\n",
        "A = True\n",
        "B= False\n",
        "B and B\n"
      ],
      "metadata": {
        "id": "jMQjUi5YSJGp",
        "colab": {
          "base_uri": "https://localhost:8080/"
        },
        "outputId": "fc01c2e1-c8f7-4054-aeb4-4d0c23f1427c"
      },
      "execution_count": 110,
      "outputs": [
        {
          "output_type": "execute_result",
          "data": {
            "text/plain": [
              "False"
            ]
          },
          "metadata": {},
          "execution_count": 110
        }
      ]
    },
    {
      "cell_type": "code",
      "source": [
        "'hello' + \" 1\""
      ],
      "metadata": {
        "id": "oh_wOmLcUM_z",
        "colab": {
          "base_uri": "https://localhost:8080/",
          "height": 35
        },
        "outputId": "e4479346-43aa-49d2-e728-572ae584153c"
      },
      "execution_count": 111,
      "outputs": [
        {
          "output_type": "execute_result",
          "data": {
            "text/plain": [
              "'hello 1'"
            ],
            "application/vnd.google.colaboratory.intrinsic+json": {
              "type": "string"
            }
          },
          "metadata": {},
          "execution_count": 111
        }
      ]
    },
    {
      "cell_type": "code",
      "source": [
        "if 4 > 9 :\n",
        "  print (\"first is greater than 2\")\n",
        "else :\n",
        "   print (\"sencond num is greater thann first\") "
      ],
      "metadata": {
        "id": "hLCK2PCA8-WN",
        "colab": {
          "base_uri": "https://localhost:8080/"
        },
        "outputId": "59d52a76-9957-4eca-f1c0-8eb0f4d925e8"
      },
      "execution_count": 112,
      "outputs": [
        {
          "output_type": "stream",
          "name": "stdout",
          "text": [
            "sencond num is greater thann first\n"
          ]
        }
      ]
    },
    {
      "cell_type": "code",
      "source": [
        "if 4 > 9 :\n",
        "  print(1+1)"
      ],
      "metadata": {
        "id": "zKvzSbaB-f6y"
      },
      "execution_count": 115,
      "outputs": []
    },
    {
      "cell_type": "code",
      "source": [
        "h = 10\n",
        "o = 10\n",
        "if (h == o):\n",
        " print('Both numbers are equal')\n",
        "elif (x>y): \n",
        "      print('The first number is greater than the second one')\n",
        "else:\n",
        "        print(\"The second number is greater than the first one\")  \n"
      ],
      "metadata": {
        "id": "EkI2teGtAVhB",
        "colab": {
          "base_uri": "https://localhost:8080/"
        },
        "outputId": "db71321b-3df7-4395-89be-8c3c011a88b9"
      },
      "execution_count": 116,
      "outputs": [
        {
          "output_type": "stream",
          "name": "stdout",
          "text": [
            "Both numbers are equal\n"
          ]
        }
      ]
    },
    {
      "cell_type": "code",
      "source": [
        "a=float(input(\"Enter your score\\n\"))\n",
        "if(a>=80):\n",
        "    print(\"A\")\n",
        "elif(a>=40 and a<=80):\n",
        "          print(\"B\")\n",
        "else:\n",
        "   print('F')"
      ],
      "metadata": {
        "id": "ZAXd-QmFBHkx",
        "colab": {
          "base_uri": "https://localhost:8080/"
        },
        "outputId": "f4b92d8e-2950-4182-e904-d988641b543a"
      },
      "execution_count": 117,
      "outputs": [
        {
          "output_type": "stream",
          "name": "stdout",
          "text": [
            "Enter your score\n",
            "123\n",
            "A\n"
          ]
        }
      ]
    },
    {
      "cell_type": "markdown",
      "source": [
        "excesise 1 of chap 3"
      ],
      "metadata": {
        "id": "zAfjba0PW793"
      }
    },
    {
      "cell_type": "code",
      "source": [
        "k1 = float(input(\"Enter Hour\\n\"))\n",
        "k2 = float(input(\"Enter rate\\n\"))\n",
        "\n",
        "if(k1>40):\n",
        "  k3=(k1-40)*1.5*k2+(40*k2)\n",
        "else:\n",
        "  k3=k1*k2  \n",
        "  \n",
        "print(k3)\n",
        "\n"
      ],
      "metadata": {
        "id": "wjRlMZ1JEMqn",
        "colab": {
          "base_uri": "https://localhost:8080/"
        },
        "outputId": "188f5f74-3a1b-48de-f637-92f8c7976d8c"
      },
      "execution_count": 118,
      "outputs": [
        {
          "output_type": "stream",
          "name": "stdout",
          "text": [
            "Enter Hour\n",
            "123\n",
            "Enter rate\n",
            "32\n",
            "5264.0\n"
          ]
        }
      ]
    },
    {
      "cell_type": "markdown",
      "source": [
        "ex2 chap 3"
      ],
      "metadata": {
        "id": "2WdtzRK5b3x2"
      }
    },
    {
      "cell_type": "code",
      "source": [
        "try:\n",
        "   n1 = float(input(\"Enter Hour\\n\"))\n",
        "   n2 = float(input(\"Enter rate\\n\"))\n",
        "\n",
        "   if (n1>40):\n",
        "     n3=(n1-40)*1.5*n2+(40*n2)\n",
        "   else:\n",
        "     n3=n1*n2   \n",
        "     print(n3)\n",
        "except:\n",
        "  print(\"Please enter numeric input\")"
      ],
      "metadata": {
        "id": "aguc2Aa8akf0",
        "colab": {
          "base_uri": "https://localhost:8080/"
        },
        "outputId": "29e17077-02c7-4042-db4d-926818eb4770"
      },
      "execution_count": 119,
      "outputs": [
        {
          "name": "stdout",
          "output_type": "stream",
          "text": [
            "Enter Hour\n",
            "43\n",
            "Enter rate\n",
            "546\n"
          ]
        }
      ]
    },
    {
      "cell_type": "markdown",
      "source": [
        "ex 3 of chapm 3"
      ],
      "metadata": {
        "id": "j0X5rC58Z3tF"
      }
    },
    {
      "cell_type": "code",
      "source": [
        "a=float(input(\"Enter your score\\n\"))\n",
        "if(a<0.0 or a>1.0) :\n",
        "  print(\"Score is out of range!!\")\n",
        "elif(a>=0.9):\n",
        "  print(\"A\")\n",
        "elif(a>=0.8):\n",
        "  print(\"B\")\n",
        "elif(a>=0.7):\n",
        "  print(\"C\")\n",
        "elif(a>=0.6):\n",
        "  print(\"D\")      \n",
        "else:\n",
        "  print(\"F\")"
      ],
      "metadata": {
        "id": "48XlkJURZUS-",
        "colab": {
          "base_uri": "https://localhost:8080/"
        },
        "outputId": "cbf8224e-c8d2-4225-ed65-4bee50660d78"
      },
      "execution_count": 120,
      "outputs": [
        {
          "output_type": "stream",
          "name": "stdout",
          "text": [
            "Enter your score\n",
            "56\n",
            "Score is out of range!!\n"
          ]
        }
      ]
    },
    {
      "cell_type": "markdown",
      "source": [
        "LEAP YEAR"
      ],
      "metadata": {
        "id": "h9otKrisfuT5"
      }
    },
    {
      "cell_type": "code",
      "source": [
        "a=float(input('Enter the year\\n'))\n",
        "if (a % 4 ==0 and a % 400 == 0 or a != 0):\n",
        "  print('The year is leap year')\n",
        "else:\n",
        "  print('The year is not a leap year')"
      ],
      "metadata": {
        "id": "pzuXTlxhftJX",
        "colab": {
          "base_uri": "https://localhost:8080/"
        },
        "outputId": "8279745a-9677-4d81-d056-602af557f684"
      },
      "execution_count": 121,
      "outputs": [
        {
          "output_type": "stream",
          "name": "stdout",
          "text": [
            "Enter the year\n",
            "3091\n",
            "The year is leap year\n"
          ]
        }
      ]
    },
    {
      "cell_type": "code",
      "source": [
        "import this"
      ],
      "metadata": {
        "id": "UGQV3VY-QtAq"
      },
      "execution_count": 122,
      "outputs": []
    },
    {
      "cell_type": "code",
      "source": [
        "name = \"chunk\"\n",
        "print (\"hello \" + name )"
      ],
      "metadata": {
        "id": "G6UJU-sFQz-j"
      },
      "execution_count": null,
      "outputs": []
    },
    {
      "cell_type": "markdown",
      "source": [
        "excercise 3\n",
        "h = numberof hours worked , p = box paid per hour"
      ],
      "metadata": {
        "id": "ah8tyYb9Q5XB"
      }
    },
    {
      "cell_type": "code",
      "source": [
        "h = 53.3\n",
        "p = 6.9\n",
        "gross = h * p\n",
        "print (gross)"
      ],
      "metadata": {
        "id": "GBNg806cQ4Z8",
        "colab": {
          "base_uri": "https://localhost:8080/"
        },
        "outputId": "d72e4047-5ba2-4371-fb48-c73606262a7a"
      },
      "execution_count": 123,
      "outputs": [
        {
          "output_type": "stream",
          "name": "stdout",
          "text": [
            "367.77\n"
          ]
        }
      ]
    },
    {
      "cell_type": "markdown",
      "source": [
        "excersice 4"
      ],
      "metadata": {
        "id": "KpcxJDRMRFVw"
      }
    },
    {
      "cell_type": "code",
      "source": [
        "width = 31\n",
        "height = 27.7\n",
        "print (width//2) "
      ],
      "metadata": {
        "id": "_U0NrG8gRF6h",
        "colab": {
          "base_uri": "https://localhost:8080/"
        },
        "outputId": "a2f2133f-e58a-4871-a271-8dd6860f0af5"
      },
      "execution_count": 124,
      "outputs": [
        {
          "output_type": "stream",
          "name": "stdout",
          "text": [
            "15\n"
          ]
        }
      ]
    },
    {
      "cell_type": "markdown",
      "source": [
        ""
      ],
      "metadata": {
        "id": "Tpxuu1jsRL4x"
      }
    },
    {
      "cell_type": "code",
      "source": [
        "print (width/2.0)"
      ],
      "metadata": {
        "id": "wvI7s6CTRMCz",
        "colab": {
          "base_uri": "https://localhost:8080/"
        },
        "outputId": "88a263ba-b150-4e6d-9160-63c5191ff624"
      },
      "execution_count": 125,
      "outputs": [
        {
          "output_type": "stream",
          "name": "stdout",
          "text": [
            "15.5\n"
          ]
        }
      ]
    },
    {
      "cell_type": "code",
      "source": [
        "print (height /3)"
      ],
      "metadata": {
        "id": "xOWKRgz-RSpy",
        "colab": {
          "base_uri": "https://localhost:8080/"
        },
        "outputId": "005f6caf-9a08-4a95-b19b-1e2f40f88ad4"
      },
      "execution_count": 126,
      "outputs": [
        {
          "output_type": "stream",
          "name": "stdout",
          "text": [
            "9.233333333333333\n"
          ]
        }
      ]
    },
    {
      "cell_type": "code",
      "source": [
        "k = 15 + 27 * 51\n",
        "print (k)"
      ],
      "metadata": {
        "id": "CvikrYrVRVhM",
        "colab": {
          "base_uri": "https://localhost:8080/"
        },
        "outputId": "0ad7e250-b949-4017-9db9-a3c96a292209"
      },
      "execution_count": 127,
      "outputs": [
        {
          "output_type": "stream",
          "name": "stdout",
          "text": [
            "1392\n"
          ]
        }
      ]
    },
    {
      "cell_type": "code",
      "source": [
        "c = 55.6\n",
        "f = ( c * 9/5 ) + 32\n",
        "print (f)"
      ],
      "metadata": {
        "id": "BF5Gl5aTRYsp",
        "colab": {
          "base_uri": "https://localhost:8080/"
        },
        "outputId": "23c7dc2f-fbcb-4394-bf50-0ad23365f742"
      },
      "execution_count": 129,
      "outputs": [
        {
          "output_type": "stream",
          "name": "stdout",
          "text": [
            "132.08\n"
          ]
        }
      ]
    },
    {
      "cell_type": "markdown",
      "source": [
        "excersice 5 ,c = celcius , f = Fahrenheit"
      ],
      "metadata": {
        "id": "AcaDemrxRfen"
      }
    },
    {
      "cell_type": "code",
      "source": [
        "f = (100)\n",
        "if f < 105 :\n",
        "    print (\" he is suffering from feaver\")\n",
        "else :\n",
        "      print (\"health is good\")"
      ],
      "metadata": {
        "id": "LBz36l1nRbyH",
        "colab": {
          "base_uri": "https://localhost:8080/"
        },
        "outputId": "f6f543bb-e8ca-4970-bb64-06a34d6d89bc"
      },
      "execution_count": 130,
      "outputs": [
        {
          "output_type": "stream",
          "name": "stdout",
          "text": [
            " he is suffering from feaver\n"
          ]
        }
      ]
    },
    {
      "cell_type": "code",
      "source": [
        "p = float(input('P = '))\n",
        "a = float(input('A = ')) \n",
        "t = float(input('T = ')) \n",
        "r = ((a - p) * 100) / (p * t)\n",
        "print(r)\n"
      ],
      "metadata": {
        "id": "7AwyHlz2Rg_i",
        "colab": {
          "base_uri": "https://localhost:8080/"
        },
        "outputId": "0c4f99c2-f3ae-452b-a1cc-ca681f8c8554"
      },
      "execution_count": 131,
      "outputs": [
        {
          "output_type": "stream",
          "name": "stdout",
          "text": [
            "P = 45\n",
            "A = 45\n",
            "T = 45\n",
            "0.0\n"
          ]
        }
      ]
    },
    {
      "cell_type": "markdown",
      "source": [
        "les 1 ex7"
      ],
      "metadata": {
        "id": "HK1m_pgp6DjQ"
      }
    },
    {
      "cell_type": "code",
      "source": [
        "x = 43\n",
        "x = x + 1\n",
        "print(x)"
      ],
      "metadata": {
        "id": "FB1b1Wmf51H_",
        "colab": {
          "base_uri": "https://localhost:8080/"
        },
        "outputId": "6ff4e25b-6e2e-43a1-fcaf-0fd385878b92"
      },
      "execution_count": 132,
      "outputs": [
        {
          "output_type": "stream",
          "name": "stdout",
          "text": [
            "44\n"
          ]
        }
      ]
    },
    {
      "cell_type": "code",
      "source": [
        "def thankyou(king):\n",
        " print(\"\\nYou are doing good work, %s!\" % king)\n",
        "\n",
        "thankyou('karthi')"
      ],
      "metadata": {
        "id": "quGdxiFAJV_l",
        "colab": {
          "base_uri": "https://localhost:8080/"
        },
        "outputId": "c138555f-5ded-4f9a-8264-3c1151741cd3"
      },
      "execution_count": 133,
      "outputs": [
        {
          "output_type": "stream",
          "name": "stdout",
          "text": [
            "\n",
            "You are doing good work, karthi!\n"
          ]
        }
      ]
    },
    {
      "cell_type": "code",
      "source": [
        "A = 5 / 5\n",
        "print (A)\n"
      ],
      "metadata": {
        "id": "Ek5bc97mB-gJ",
        "colab": {
          "base_uri": "https://localhost:8080/"
        },
        "outputId": "124c0ab5-890c-4fa8-82f8-3cb4ea148f1b"
      },
      "execution_count": 134,
      "outputs": [
        {
          "output_type": "stream",
          "name": "stdout",
          "text": [
            "1.0\n"
          ]
        }
      ]
    },
    {
      "cell_type": "code",
      "source": [
        "thankyou('ghghgh')\n",
        "\n",
        "def thankyou(abc):\n",
        " print(\"\\ndong good, %s!\" % abc)\n",
        "\n",
        " "
      ],
      "metadata": {
        "id": "Xd6kbho3GXdb",
        "colab": {
          "base_uri": "https://localhost:8080/"
        },
        "outputId": "ec7d63eb-f577-437c-9ad1-13461ef5c82f"
      },
      "execution_count": 135,
      "outputs": [
        {
          "output_type": "stream",
          "name": "stdout",
          "text": [
            "\n",
            "You are doing good work, ghghgh!\n"
          ]
        }
      ]
    },
    {
      "cell_type": "code",
      "source": [
        "def raj(x,y):\n",
        "  return x*y;\n",
        "\n",
        "num1=5\n",
        "num2=6\n",
        "print(\"the product is:\" , raj(num))"
      ],
      "metadata": {
        "id": "ffaTNMLlWqmA",
        "colab": {
          "base_uri": "https://localhost:8080/",
          "height": 201
        },
        "outputId": "6b5f6501-4390-4913-e839-eb9ac8c124dc"
      },
      "execution_count": 137,
      "outputs": [
        {
          "output_type": "error",
          "ename": "TypeError",
          "evalue": "ignored",
          "traceback": [
            "\u001b[0;31m---------------------------------------------------------------------------\u001b[0m",
            "\u001b[0;31mTypeError\u001b[0m                                 Traceback (most recent call last)",
            "\u001b[0;32m<ipython-input-137-5168f141d4ea>\u001b[0m in \u001b[0;36m<module>\u001b[0;34m()\u001b[0m\n\u001b[1;32m      4\u001b[0m \u001b[0mnum1\u001b[0m\u001b[0;34m=\u001b[0m\u001b[0;36m5\u001b[0m\u001b[0;34m\u001b[0m\u001b[0;34m\u001b[0m\u001b[0m\n\u001b[1;32m      5\u001b[0m \u001b[0mnum2\u001b[0m\u001b[0;34m=\u001b[0m\u001b[0;36m6\u001b[0m\u001b[0;34m\u001b[0m\u001b[0;34m\u001b[0m\u001b[0m\n\u001b[0;32m----> 6\u001b[0;31m \u001b[0mprint\u001b[0m\u001b[0;34m(\u001b[0m\u001b[0;34m\"the product is:\"\u001b[0m \u001b[0;34m,\u001b[0m \u001b[0mraj\u001b[0m\u001b[0;34m(\u001b[0m\u001b[0mnum\u001b[0m\u001b[0;34m)\u001b[0m\u001b[0;34m)\u001b[0m\u001b[0;34m\u001b[0m\u001b[0;34m\u001b[0m\u001b[0m\n\u001b[0m",
            "\u001b[0;31mTypeError\u001b[0m: raj() missing 1 required positional argument: 'y'"
          ]
        }
      ]
    },
    {
      "cell_type": "markdown",
      "source": [
        "### ***`LIST`***\n",
        "```\n",
        "\n"
      ],
      "metadata": {
        "id": "0ODQ2USbIjfq"
      }
    },
    {
      "cell_type": "code",
      "source": [
        "List = [0,1,2,\"king\",4,5]\n",
        "List[0:4]"
      ],
      "metadata": {
        "id": "pYIIcZSBIhyc",
        "colab": {
          "base_uri": "https://localhost:8080/"
        },
        "outputId": "ee2fbd45-7d68-47d1-d0e2-b72ca055f77b"
      },
      "execution_count": 138,
      "outputs": [
        {
          "output_type": "execute_result",
          "data": {
            "text/plain": [
              "[0, 1, 2, 'king']"
            ]
          },
          "metadata": {},
          "execution_count": 138
        }
      ]
    },
    {
      "cell_type": "code",
      "source": [
        "List[1:6]"
      ],
      "metadata": {
        "id": "razbJbAgI76s",
        "colab": {
          "base_uri": "https://localhost:8080/"
        },
        "outputId": "7958a36a-d3c1-478b-8d7b-6b72dfea239f"
      },
      "execution_count": 139,
      "outputs": [
        {
          "output_type": "execute_result",
          "data": {
            "text/plain": [
              "[1, 2, 'king', 4, 5]"
            ]
          },
          "metadata": {},
          "execution_count": 139
        }
      ]
    },
    {
      "cell_type": "code",
      "source": [
        "List[:-1]"
      ],
      "metadata": {
        "id": "izQYeyBeJura",
        "colab": {
          "base_uri": "https://localhost:8080/"
        },
        "outputId": "9ec30a1d-4862-475d-ced8-e0e5cd7598c8"
      },
      "execution_count": 140,
      "outputs": [
        {
          "output_type": "execute_result",
          "data": {
            "text/plain": [
              "[0, 1, 2, 'king', 4]"
            ]
          },
          "metadata": {},
          "execution_count": 140
        }
      ]
    },
    {
      "cell_type": "code",
      "source": [
        "List[-5:-2]"
      ],
      "metadata": {
        "id": "-bggXu65KXlI",
        "colab": {
          "base_uri": "https://localhost:8080/"
        },
        "outputId": "57fa74d8-a67a-4058-df10-8de4d1d2b2e7"
      },
      "execution_count": 141,
      "outputs": [
        {
          "output_type": "execute_result",
          "data": {
            "text/plain": [
              "[1, 2, 'king']"
            ]
          },
          "metadata": {},
          "execution_count": 141
        }
      ]
    },
    {
      "cell_type": "code",
      "source": [
        "List[0:9]\n",
        "# after : depits count : , "
      ],
      "metadata": {
        "id": "19yxhgdhK9mV",
        "colab": {
          "base_uri": "https://localhost:8080/"
        },
        "outputId": "2e42514e-5c45-4e3d-b94d-3f3ea6dc66cf"
      },
      "execution_count": 142,
      "outputs": [
        {
          "output_type": "execute_result",
          "data": {
            "text/plain": [
              "[0, 1, 2, 'king', 4, 5]"
            ]
          },
          "metadata": {},
          "execution_count": 142
        }
      ]
    },
    {
      "cell_type": "code",
      "source": [
        "l = [\"michle\",10.36,1999]\n",
        "l[-3]"
      ],
      "metadata": {
        "id": "l6eU8mYxKd8s",
        "colab": {
          "base_uri": "https://localhost:8080/",
          "height": 35
        },
        "outputId": "3ec1111c-4cdb-47b9-e2c1-638157225647"
      },
      "execution_count": 143,
      "outputs": [
        {
          "output_type": "execute_result",
          "data": {
            "text/plain": [
              "'michle'"
            ],
            "application/vnd.google.colaboratory.intrinsic+json": {
              "type": "string"
            }
          },
          "metadata": {},
          "execution_count": 143
        }
      ]
    },
    {
      "cell_type": "code",
      "source": [
        "h = \"hfdk,jgrtwe\"\n",
        "#[::2] startv with 2nd and end with nth\n",
        "#[-2::-3]\n",
        "h[::2]"
      ],
      "metadata": {
        "id": "YvWwEKnIYtyf",
        "colab": {
          "base_uri": "https://localhost:8080/",
          "height": 35
        },
        "outputId": "fcd36238-0bbf-4b67-b9d4-ebcea31b7161"
      },
      "execution_count": 144,
      "outputs": [
        {
          "output_type": "execute_result",
          "data": {
            "text/plain": [
              "'hd,gte'"
            ],
            "application/vnd.google.colaboratory.intrinsic+json": {
              "type": "string"
            }
          },
          "metadata": {},
          "execution_count": 144
        }
      ]
    },
    {
      "cell_type": "code",
      "source": [
        "def palindrome(kk):\n",
        " return kk == kk[::1] \n",
        " kk = \"22022022\"\n",
        " ans = palindrome(kk)\n",
        " if ans :\n",
        "   print(\"yes\")\n",
        " else:\n",
        "  print(\"no\")\n",
        " "
      ],
      "metadata": {
        "id": "bODSfVYWK8aM"
      },
      "execution_count": 145,
      "outputs": []
    },
    {
      "cell_type": "code",
      "source": [
        "price1 = float(input('Enter the 1 price : '))\n",
        "piece1 = float(input('Enter the 1 box : '))\n",
        "price2 = float(input('Enter the 2 price : '))\n",
        "piece2 = float(input('Enter the 2 box : '))\n",
        "\n",
        "elasticity = (piece2 - piece1) / (price2 - price1)\n",
        "print(elasticity)\n",
        "if (elasticity < 1) :\n",
        " print(\"inelasatic\")\n",
        "elif (elasticity > 1) :\n",
        " print (\"elastc\")"
      ],
      "metadata": {
        "id": "DJ9c2LcjbOnU",
        "colab": {
          "base_uri": "https://localhost:8080/"
        },
        "outputId": "2b09c8be-948e-455e-8cb2-68923a77ccb7"
      },
      "execution_count": 146,
      "outputs": [
        {
          "output_type": "stream",
          "name": "stdout",
          "text": [
            "Enter the 1 price : 22\n",
            "Enter the 1 box : 423\n",
            "Enter the 2 price : 433\n",
            "Enter the 2 box : 234\n",
            "-0.45985401459854014\n",
            "inelasatic\n"
          ]
        }
      ]
    },
    {
      "cell_type": "code",
      "source": [
        "def elast(price1,box1,price2,box2):\n",
        "  elasticity = (box2 - box1) / (price2 - price1)\n",
        "  return (elasticity)\n",
        "  \n",
        "def scale_elast(elasticity):\n",
        "  if elasticity == 0 : \n",
        "    return 'Perfectly Inelastic'\n",
        "  elif elasticity < 1 :\n",
        "    return 'Relatively inelastic'\n",
        "  elif elasticity == 1 : \n",
        "    return 'Unit Elastic'\n",
        "  elif elasticity > 1 : \n",
        "    return 'Relatively Elastic'\n",
        "\n",
        "price1 = float(input('Enter the prior price : '))\n",
        "box1 = float(input('Enter the prior box : '))\n",
        "price2 = float(input('Enter the latter price : '))\n",
        "box2 = float(input('Enter the latter box : '))\n",
        "\n",
        "elasticity = elast(price1,box1,price2,box2)\n",
        "print('Elasticity = ',elasticity)\n",
        "\n",
        "character = scale_elast(elasticity)\n",
        "print('Character of product = ', character)"
      ],
      "metadata": {
        "id": "-PjtxMy9fO1-",
        "colab": {
          "base_uri": "https://localhost:8080/"
        },
        "outputId": "786d8e2f-a84f-44e8-ef8a-cb4043745bae"
      },
      "execution_count": 147,
      "outputs": [
        {
          "output_type": "stream",
          "name": "stdout",
          "text": [
            "Enter the prior price : 23\n",
            "Enter the prior box : 53\n",
            "Enter the latter price : 34\n",
            "Enter the latter box : 234\n",
            "Elasticity =  16.454545454545453\n",
            "Character of product =  Relatively Elastic\n"
          ]
        }
      ]
    },
    {
      "cell_type": "code",
      "source": [
        "def elasticity():\n",
        "  try:  \n",
        "    p1 = float(input(\"Please enter the org price \"))\n",
        "    p2 = float (input(\"Please enter new price \"))\n",
        "    a1 = float(input(\"Please enter old amount \"))\n",
        "    a2 = float(input(\"Please enter new amount \"))\n",
        "    elasticity = (a2-a1)/(p2-p1)\n",
        "    if elasticity == 0:\n",
        "      return (\"Demand is totally inelastic\")\n",
        "    elif elasticity < 0 :\n",
        "      return (\"Demand is inelastic\")\n",
        "    elif elasticity == 1 :\n",
        "      return (\"Demand is unit elastic\")\n",
        "    elif elasticity > 1:\n",
        "      return(\"Demand is elastic\") \n",
        "  except ZeroDivisionError:\n",
        "    return (\"Demand is infinite\")\n",
        " \n",
        "print(elasticity())      "
      ],
      "metadata": {
        "id": "JBPp7dWjg4Jw",
        "colab": {
          "base_uri": "https://localhost:8080/"
        },
        "outputId": "d33c29b8-7707-409d-afad-ea6b8202a1c4"
      },
      "execution_count": 148,
      "outputs": [
        {
          "output_type": "stream",
          "name": "stdout",
          "text": [
            "Please enter the org price 23\n",
            "Please enter new price 44\n",
            "Please enter old amount 52\n",
            "Please enter new amount 43\n",
            "Demand is inelastic\n"
          ]
        }
      ]
    },
    {
      "cell_type": "markdown",
      "source": [
        "# ***`WHILE LOOP`***"
      ],
      "metadata": {
        "id": "-K3UXkwkgFx6"
      }
    },
    {
      "cell_type": "code",
      "source": [
        "i = 1\n",
        "while i < 11:\n",
        "  print(i)\n",
        "  i += 0.5"
      ],
      "metadata": {
        "id": "0xnjparAaoH4",
        "colab": {
          "base_uri": "https://localhost:8080/"
        },
        "outputId": "a49c68a1-50af-4649-f511-e2a718d0fb9d"
      },
      "execution_count": 149,
      "outputs": [
        {
          "output_type": "stream",
          "name": "stdout",
          "text": [
            "1\n",
            "1.5\n",
            "2.0\n",
            "2.5\n",
            "3.0\n",
            "3.5\n",
            "4.0\n",
            "4.5\n",
            "5.0\n",
            "5.5\n",
            "6.0\n",
            "6.5\n",
            "7.0\n",
            "7.5\n",
            "8.0\n",
            "8.5\n",
            "9.0\n",
            "9.5\n",
            "10.0\n",
            "10.5\n"
          ]
        }
      ]
    },
    {
      "cell_type": "markdown",
      "source": [
        ""
      ],
      "metadata": {
        "id": "nHJI0ICogFrH"
      }
    },
    {
      "cell_type": "code",
      "source": [
        "i = 2\n",
        "while i < 8:\n",
        "  print(i)\n",
        "  if i == 5:\n",
        "    break\n",
        "  i += 2\n"
      ],
      "metadata": {
        "id": "fz7QO65qa-iL",
        "colab": {
          "base_uri": "https://localhost:8080/"
        },
        "outputId": "0440cb85-a555-4528-a636-f69fd90bf85a"
      },
      "execution_count": 150,
      "outputs": [
        {
          "output_type": "stream",
          "name": "stdout",
          "text": [
            "2\n",
            "4\n",
            "6\n"
          ]
        }
      ]
    },
    {
      "cell_type": "code",
      "source": [
        "i = 8\n",
        "while i < 25:\n",
        "  print(i)\n",
        "  i += 3\n",
        "else:\n",
        "  print(\"i is no longer less than 6\")"
      ],
      "metadata": {
        "id": "0qG19crhbnsz",
        "colab": {
          "base_uri": "https://localhost:8080/"
        },
        "outputId": "59538b56-a9ee-4e1d-bac9-56c781f74d41"
      },
      "execution_count": 151,
      "outputs": [
        {
          "output_type": "stream",
          "name": "stdout",
          "text": [
            "8\n",
            "11\n",
            "14\n",
            "17\n",
            "20\n",
            "23\n",
            "i is no longer less than 6\n"
          ]
        }
      ]
    },
    {
      "cell_type": "code",
      "source": [
        "dates = [1982, 1980, 1973, 2000, 2014, 2015]\n",
        "\n",
        "i = 0\n",
        "year = 0\n",
        "\n",
        "while(year != 1982):\n",
        "    year = dates[i]\n",
        "    i = i + 1\n",
        "    print(year)\n",
        "\n",
        "print(\"It took \", i ,\"repetitions to get out of loop.\")"
      ],
      "metadata": {
        "id": "SZaMcq6FcJ-T",
        "colab": {
          "base_uri": "https://localhost:8080/"
        },
        "outputId": "68ab619e-36f8-4fb3-bf79-d38bf9592cec"
      },
      "execution_count": 152,
      "outputs": [
        {
          "output_type": "stream",
          "name": "stdout",
          "text": [
            "1982\n",
            "It took  1 repetitions to get out of loop.\n"
          ]
        }
      ]
    },
    {
      "cell_type": "code",
      "source": [
        "while True:\n",
        "  line = input('> ')\n",
        "  if line == 'done':\n",
        "    break\n",
        "  print(line)\n",
        "print('Done!')"
      ],
      "metadata": {
        "id": "b9YknPmsee1k",
        "colab": {
          "base_uri": "https://localhost:8080/",
          "height": 711
        },
        "outputId": "bcb81c3a-7e2b-499b-9655-1ecc09345942"
      },
      "execution_count": 153,
      "outputs": [
        {
          "output_type": "stream",
          "name": "stdout",
          "text": [
            "> 34\n",
            "34\n",
            "> 44\n",
            "44\n",
            "> 23\n",
            "23\n",
            "> 53\n",
            "53\n",
            "> 3\n",
            "3\n"
          ]
        },
        {
          "output_type": "error",
          "ename": "KeyboardInterrupt",
          "evalue": "ignored",
          "traceback": [
            "\u001b[0;31m---------------------------------------------------------------------------\u001b[0m",
            "\u001b[0;31mKeyboardInterrupt\u001b[0m                         Traceback (most recent call last)",
            "\u001b[0;32m/usr/local/lib/python3.7/dist-packages/ipykernel/kernelbase.py\u001b[0m in \u001b[0;36m_input_request\u001b[0;34m(self, prompt, ident, parent, password)\u001b[0m\n\u001b[1;32m    728\u001b[0m             \u001b[0;32mtry\u001b[0m\u001b[0;34m:\u001b[0m\u001b[0;34m\u001b[0m\u001b[0;34m\u001b[0m\u001b[0m\n\u001b[0;32m--> 729\u001b[0;31m                 \u001b[0mident\u001b[0m\u001b[0;34m,\u001b[0m \u001b[0mreply\u001b[0m \u001b[0;34m=\u001b[0m \u001b[0mself\u001b[0m\u001b[0;34m.\u001b[0m\u001b[0msession\u001b[0m\u001b[0;34m.\u001b[0m\u001b[0mrecv\u001b[0m\u001b[0;34m(\u001b[0m\u001b[0mself\u001b[0m\u001b[0;34m.\u001b[0m\u001b[0mstdin_socket\u001b[0m\u001b[0;34m,\u001b[0m \u001b[0;36m0\u001b[0m\u001b[0;34m)\u001b[0m\u001b[0;34m\u001b[0m\u001b[0;34m\u001b[0m\u001b[0m\n\u001b[0m\u001b[1;32m    730\u001b[0m             \u001b[0;32mexcept\u001b[0m \u001b[0mException\u001b[0m\u001b[0;34m:\u001b[0m\u001b[0;34m\u001b[0m\u001b[0;34m\u001b[0m\u001b[0m\n",
            "\u001b[0;32m/usr/local/lib/python3.7/dist-packages/jupyter_client/session.py\u001b[0m in \u001b[0;36mrecv\u001b[0;34m(self, socket, mode, content, copy)\u001b[0m\n\u001b[1;32m    802\u001b[0m         \u001b[0;32mtry\u001b[0m\u001b[0;34m:\u001b[0m\u001b[0;34m\u001b[0m\u001b[0;34m\u001b[0m\u001b[0m\n\u001b[0;32m--> 803\u001b[0;31m             \u001b[0mmsg_list\u001b[0m \u001b[0;34m=\u001b[0m \u001b[0msocket\u001b[0m\u001b[0;34m.\u001b[0m\u001b[0mrecv_multipart\u001b[0m\u001b[0;34m(\u001b[0m\u001b[0mmode\u001b[0m\u001b[0;34m,\u001b[0m \u001b[0mcopy\u001b[0m\u001b[0;34m=\u001b[0m\u001b[0mcopy\u001b[0m\u001b[0;34m)\u001b[0m\u001b[0;34m\u001b[0m\u001b[0;34m\u001b[0m\u001b[0m\n\u001b[0m\u001b[1;32m    804\u001b[0m         \u001b[0;32mexcept\u001b[0m \u001b[0mzmq\u001b[0m\u001b[0;34m.\u001b[0m\u001b[0mZMQError\u001b[0m \u001b[0;32mas\u001b[0m \u001b[0me\u001b[0m\u001b[0;34m:\u001b[0m\u001b[0;34m\u001b[0m\u001b[0;34m\u001b[0m\u001b[0m\n",
            "\u001b[0;32m/usr/local/lib/python3.7/dist-packages/zmq/sugar/socket.py\u001b[0m in \u001b[0;36mrecv_multipart\u001b[0;34m(self, flags, copy, track)\u001b[0m\n\u001b[1;32m    624\u001b[0m         \"\"\"\n\u001b[0;32m--> 625\u001b[0;31m         \u001b[0mparts\u001b[0m \u001b[0;34m=\u001b[0m \u001b[0;34m[\u001b[0m\u001b[0mself\u001b[0m\u001b[0;34m.\u001b[0m\u001b[0mrecv\u001b[0m\u001b[0;34m(\u001b[0m\u001b[0mflags\u001b[0m\u001b[0;34m,\u001b[0m \u001b[0mcopy\u001b[0m\u001b[0;34m=\u001b[0m\u001b[0mcopy\u001b[0m\u001b[0;34m,\u001b[0m \u001b[0mtrack\u001b[0m\u001b[0;34m=\u001b[0m\u001b[0mtrack\u001b[0m\u001b[0;34m)\u001b[0m\u001b[0;34m]\u001b[0m\u001b[0;34m\u001b[0m\u001b[0;34m\u001b[0m\u001b[0m\n\u001b[0m\u001b[1;32m    626\u001b[0m         \u001b[0;31m# have first part already, only loop while more to receive\u001b[0m\u001b[0;34m\u001b[0m\u001b[0;34m\u001b[0m\u001b[0;34m\u001b[0m\u001b[0m\n",
            "\u001b[0;32mzmq/backend/cython/socket.pyx\u001b[0m in \u001b[0;36mzmq.backend.cython.socket.Socket.recv\u001b[0;34m()\u001b[0m\n",
            "\u001b[0;32mzmq/backend/cython/socket.pyx\u001b[0m in \u001b[0;36mzmq.backend.cython.socket.Socket.recv\u001b[0;34m()\u001b[0m\n",
            "\u001b[0;32mzmq/backend/cython/socket.pyx\u001b[0m in \u001b[0;36mzmq.backend.cython.socket._recv_copy\u001b[0;34m()\u001b[0m\n",
            "\u001b[0;32m/usr/local/lib/python3.7/dist-packages/zmq/backend/cython/checkrc.pxd\u001b[0m in \u001b[0;36mzmq.backend.cython.checkrc._check_rc\u001b[0;34m()\u001b[0m\n",
            "\u001b[0;31mKeyboardInterrupt\u001b[0m: ",
            "\nDuring handling of the above exception, another exception occurred:\n",
            "\u001b[0;31mKeyboardInterrupt\u001b[0m                         Traceback (most recent call last)",
            "\u001b[0;32m<ipython-input-153-5117a36f5dd4>\u001b[0m in \u001b[0;36m<module>\u001b[0;34m()\u001b[0m\n\u001b[1;32m      1\u001b[0m \u001b[0;32mwhile\u001b[0m \u001b[0;32mTrue\u001b[0m\u001b[0;34m:\u001b[0m\u001b[0;34m\u001b[0m\u001b[0;34m\u001b[0m\u001b[0m\n\u001b[0;32m----> 2\u001b[0;31m   \u001b[0mline\u001b[0m \u001b[0;34m=\u001b[0m \u001b[0minput\u001b[0m\u001b[0;34m(\u001b[0m\u001b[0;34m'> '\u001b[0m\u001b[0;34m)\u001b[0m\u001b[0;34m\u001b[0m\u001b[0;34m\u001b[0m\u001b[0m\n\u001b[0m\u001b[1;32m      3\u001b[0m   \u001b[0;32mif\u001b[0m \u001b[0mline\u001b[0m \u001b[0;34m==\u001b[0m \u001b[0;34m'done'\u001b[0m\u001b[0;34m:\u001b[0m\u001b[0;34m\u001b[0m\u001b[0;34m\u001b[0m\u001b[0m\n\u001b[1;32m      4\u001b[0m     \u001b[0;32mbreak\u001b[0m\u001b[0;34m\u001b[0m\u001b[0;34m\u001b[0m\u001b[0m\n\u001b[1;32m      5\u001b[0m   \u001b[0mprint\u001b[0m\u001b[0;34m(\u001b[0m\u001b[0mline\u001b[0m\u001b[0;34m)\u001b[0m\u001b[0;34m\u001b[0m\u001b[0;34m\u001b[0m\u001b[0m\n",
            "\u001b[0;32m/usr/local/lib/python3.7/dist-packages/ipykernel/kernelbase.py\u001b[0m in \u001b[0;36mraw_input\u001b[0;34m(self, prompt)\u001b[0m\n\u001b[1;32m    702\u001b[0m             \u001b[0mself\u001b[0m\u001b[0;34m.\u001b[0m\u001b[0m_parent_ident\u001b[0m\u001b[0;34m,\u001b[0m\u001b[0;34m\u001b[0m\u001b[0;34m\u001b[0m\u001b[0m\n\u001b[1;32m    703\u001b[0m             \u001b[0mself\u001b[0m\u001b[0;34m.\u001b[0m\u001b[0m_parent_header\u001b[0m\u001b[0;34m,\u001b[0m\u001b[0;34m\u001b[0m\u001b[0;34m\u001b[0m\u001b[0m\n\u001b[0;32m--> 704\u001b[0;31m             \u001b[0mpassword\u001b[0m\u001b[0;34m=\u001b[0m\u001b[0;32mFalse\u001b[0m\u001b[0;34m,\u001b[0m\u001b[0;34m\u001b[0m\u001b[0;34m\u001b[0m\u001b[0m\n\u001b[0m\u001b[1;32m    705\u001b[0m         )\n\u001b[1;32m    706\u001b[0m \u001b[0;34m\u001b[0m\u001b[0m\n",
            "\u001b[0;32m/usr/local/lib/python3.7/dist-packages/ipykernel/kernelbase.py\u001b[0m in \u001b[0;36m_input_request\u001b[0;34m(self, prompt, ident, parent, password)\u001b[0m\n\u001b[1;32m    732\u001b[0m             \u001b[0;32mexcept\u001b[0m \u001b[0mKeyboardInterrupt\u001b[0m\u001b[0;34m:\u001b[0m\u001b[0;34m\u001b[0m\u001b[0;34m\u001b[0m\u001b[0m\n\u001b[1;32m    733\u001b[0m                 \u001b[0;31m# re-raise KeyboardInterrupt, to truncate traceback\u001b[0m\u001b[0;34m\u001b[0m\u001b[0;34m\u001b[0m\u001b[0;34m\u001b[0m\u001b[0m\n\u001b[0;32m--> 734\u001b[0;31m                 \u001b[0;32mraise\u001b[0m \u001b[0mKeyboardInterrupt\u001b[0m\u001b[0;34m\u001b[0m\u001b[0;34m\u001b[0m\u001b[0m\n\u001b[0m\u001b[1;32m    735\u001b[0m             \u001b[0;32melse\u001b[0m\u001b[0;34m:\u001b[0m\u001b[0;34m\u001b[0m\u001b[0;34m\u001b[0m\u001b[0m\n\u001b[1;32m    736\u001b[0m                 \u001b[0;32mbreak\u001b[0m\u001b[0;34m\u001b[0m\u001b[0;34m\u001b[0m\u001b[0m\n",
            "\u001b[0;31mKeyboardInterrupt\u001b[0m: "
          ]
        }
      ]
    },
    {
      "cell_type": "markdown",
      "source": [
        "# ***`*`FOR LOOP`*`***"
      ],
      "metadata": {
        "id": "HZGBXlsGgjaB"
      }
    },
    {
      "cell_type": "code",
      "source": [
        "fruits = [\"apple\", \"banana\", \"cherry\"]\n",
        "\n",
        "for x in fruits:\n",
        "  print(x)"
      ],
      "metadata": {
        "id": "ypBo6CPBgp4w",
        "colab": {
          "base_uri": "https://localhost:8080/"
        },
        "outputId": "5c2e6c16-8f17-429e-9970-42000dab3eb6"
      },
      "execution_count": 154,
      "outputs": [
        {
          "output_type": "stream",
          "name": "stdout",
          "text": [
            "apple\n",
            "banana\n",
            "cherry\n"
          ]
        }
      ]
    },
    {
      "cell_type": "code",
      "source": [
        "for x in \"jamed\":\n",
        "  print(x)"
      ],
      "metadata": {
        "id": "KlCOGAUJhMSr",
        "colab": {
          "base_uri": "https://localhost:8080/"
        },
        "outputId": "81a4c901-eebd-4100-9735-a3a459c0804b"
      },
      "execution_count": 155,
      "outputs": [
        {
          "output_type": "stream",
          "name": "stdout",
          "text": [
            "j\n",
            "a\n",
            "m\n",
            "e\n",
            "d\n"
          ]
        }
      ]
    },
    {
      "cell_type": "code",
      "source": [
        "#fruits = [\"apple\", \"banana\", \"cherry\"]\n",
        "snacks = [\"bhats\",\"samosa\", \"biscuits\",\"bomos\",\"chocolates\",\"oats\"]\n",
        "for menu in snacks:\n",
        "  if (menu[0] == \"b\"):\n",
        "    print(menu)\n",
        "#for x in fruits:\n",
        "#  print(x)"
      ],
      "metadata": {
        "id": "3XF0uvx8hM8x",
        "colab": {
          "base_uri": "https://localhost:8080/"
        },
        "outputId": "8fbc9602-ae1d-4af3-a9bf-383b3236eb3e"
      },
      "execution_count": 156,
      "outputs": [
        {
          "output_type": "stream",
          "name": "stdout",
          "text": [
            "bhats\n",
            "biscuits\n",
            "bomos\n"
          ]
        }
      ]
    },
    {
      "cell_type": "code",
      "source": [
        "# Use for loop to change the elements in list\n",
        "\n",
        "squares = ['red', 'yellow', 'green', 'purple', 'blue']\n",
        "\n",
        "for i in range(0, 5):\n",
        "    print(\"Before square \", i, 'is',  squares[i])\n",
        "    squares[i] = 'white'\n",
        "    print(\"After square \", i, 'is',  squares[i])"
      ],
      "metadata": {
        "id": "NQWW02mXje5S",
        "colab": {
          "base_uri": "https://localhost:8080/"
        },
        "outputId": "b23cf418-ff4d-4958-97c4-e4791ffce58b"
      },
      "execution_count": 157,
      "outputs": [
        {
          "output_type": "stream",
          "name": "stdout",
          "text": [
            "Before square  0 is red\n",
            "After square  0 is white\n",
            "Before square  1 is yellow\n",
            "After square  1 is white\n",
            "Before square  2 is green\n",
            "After square  2 is white\n",
            "Before square  3 is purple\n",
            "After square  3 is white\n",
            "Before square  4 is blue\n",
            "After square  4 is white\n"
          ]
        }
      ]
    },
    {
      "cell_type": "code",
      "source": [
        "# Use the range\n",
        "\n",
        "range(8)"
      ],
      "metadata": {
        "id": "yDZrMfAUjsJz",
        "colab": {
          "base_uri": "https://localhost:8080/"
        },
        "outputId": "4053fba6-a509-4871-f3c6-079ad8eda9ef"
      },
      "execution_count": 158,
      "outputs": [
        {
          "output_type": "execute_result",
          "data": {
            "text/plain": [
              "range(0, 8)"
            ]
          },
          "metadata": {},
          "execution_count": 158
        }
      ]
    },
    {
      "cell_type": "code",
      "source": [
        "# Example of for loop\n",
        "\n",
        "for i in range(0, 8):\n",
        "    print(i)"
      ],
      "metadata": {
        "id": "T7oGN5Tkj0pf",
        "colab": {
          "base_uri": "https://localhost:8080/"
        },
        "outputId": "a122d56b-74bb-49e8-e31d-f9a4189ecf4d"
      },
      "execution_count": 159,
      "outputs": [
        {
          "output_type": "stream",
          "name": "stdout",
          "text": [
            "0\n",
            "1\n",
            "2\n",
            "3\n",
            "4\n",
            "5\n",
            "6\n",
            "7\n"
          ]
        }
      ]
    },
    {
      "cell_type": "markdown",
      "source": [
        "### ***`panda`***"
      ],
      "metadata": {
        "id": "-KBS-gnmKDh0"
      }
    },
    {
      "cell_type": "code",
      "source": [
        "import numpy as np\n",
        "import pandas as pd"
      ],
      "metadata": {
        "id": "bCR0uj2IJtE2"
      },
      "execution_count": 160,
      "outputs": []
    },
    {
      "cell_type": "code",
      "source": [
        "# Create and populate a 5x2 NumPy array.\n",
        "my_data = np.array([[0, 3], [10, 7], [20, 9], [30, 14], [40, 15]])\n",
        "\n",
        "# Create a Python list that holds the names of the two columns.\n",
        "my_column_names = ['temperature', 'activity']\n",
        "\n",
        "# Create a DataFrame.\n",
        "my_dataframe = pd.DataFrame(data=my_data, columns=my_column_names)\n",
        "\n",
        "# Print the entire DataFrame\n",
        "print(my_dataframe)"
      ],
      "metadata": {
        "id": "b2UyR0vWLiee",
        "colab": {
          "base_uri": "https://localhost:8080/"
        },
        "outputId": "cc85f90d-f0c8-4cde-c1ed-7ff2a6a2d85b"
      },
      "execution_count": 161,
      "outputs": [
        {
          "output_type": "stream",
          "name": "stdout",
          "text": [
            "   temperature  activity\n",
            "0            0         3\n",
            "1           10         7\n",
            "2           20         9\n",
            "3           30        14\n",
            "4           40        15\n"
          ]
        }
      ]
    },
    {
      "cell_type": "code",
      "source": [
        "# Create and populate a 5x3 NumPy array.\n",
        "my_data = np.array([[214501, 'Ravi' ,23], [245102,'Anirudh', 7], [205309,'Aswath', 9], [30456,'Sidharth', 14], [40567,'Amey', 15]])\n",
        "# Create a Python list that holds the names of the three columns.\n",
        "my_column_names = ['Reg No', 'Name', 'Marks']\n",
        "# Create a DataFrame.\n",
        "my_dataframe = pd.DataFrame(data=my_data, columns=my_column_names)\n",
        "\n",
        "# Print the entire DataFrame\n",
        "print(my_dataframe)"
      ],
      "metadata": {
        "id": "HTeI2RtrNHoP",
        "colab": {
          "base_uri": "https://localhost:8080/"
        },
        "outputId": "e782cfd7-b480-4bac-db1d-8cf25baed7e0"
      },
      "execution_count": 162,
      "outputs": [
        {
          "output_type": "stream",
          "name": "stdout",
          "text": [
            "   Reg No      Name Marks\n",
            "0  214501      Ravi    23\n",
            "1  245102   Anirudh     7\n",
            "2  205309    Aswath     9\n",
            "3   30456  Sidharth    14\n",
            "4   40567      Amey    15\n"
          ]
        }
      ]
    },
    {
      "cell_type": "markdown",
      "source": [
        ""
      ],
      "metadata": {
        "id": "TnXdwK_gkxUv"
      }
    },
    {
      "cell_type": "code",
      "source": [
        "import pandas as pd\n",
        "from google.colab import files\n",
        "uploaded = files.upload()\n",
        "import io\n",
        "df2 = pd.read_csv(io.BytesIO(uploaded['IBBA_2145xx.csv']))\n",
        "print (df2)"
      ],
      "metadata": {
        "id": "m3uPdA9pDKaO",
        "colab": {
          "resources": {
            "http://localhost:8080/nbextensions/google.colab/files.js": {
              "data": "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",
              "ok": true,
              "headers": [
                [
                  "content-type",
                  "application/javascript"
                ]
              ],
              "status": 200,
              "status_text": "OK"
            }
          },
          "base_uri": "https://localhost:8080/",
          "height": 239
        },
        "outputId": "c80f2f65-8cc5-4ca3-8a99-b87ce88b671e"
      },
      "execution_count": 163,
      "outputs": [
        {
          "output_type": "display_data",
          "data": {
            "text/plain": [
              "<IPython.core.display.HTML object>"
            ],
            "text/html": [
              "\n",
              "     <input type=\"file\" id=\"files-7115a651-3aea-4204-9880-2e182afc8818\" name=\"files[]\" multiple disabled\n",
              "        style=\"border:none\" />\n",
              "     <output id=\"result-7115a651-3aea-4204-9880-2e182afc8818\">\n",
              "      Upload widget is only available when the cell has been executed in the\n",
              "      current browser session. Please rerun this cell to enable.\n",
              "      </output>\n",
              "      <script src=\"/nbextensions/google.colab/files.js\"></script> "
            ]
          },
          "metadata": {}
        },
        {
          "output_type": "error",
          "ename": "KeyError",
          "evalue": "ignored",
          "traceback": [
            "\u001b[0;31m---------------------------------------------------------------------------\u001b[0m",
            "\u001b[0;31mKeyError\u001b[0m                                  Traceback (most recent call last)",
            "\u001b[0;32m<ipython-input-163-b48cfde5ff75>\u001b[0m in \u001b[0;36m<module>\u001b[0;34m()\u001b[0m\n\u001b[1;32m      3\u001b[0m \u001b[0muploaded\u001b[0m \u001b[0;34m=\u001b[0m \u001b[0mfiles\u001b[0m\u001b[0;34m.\u001b[0m\u001b[0mupload\u001b[0m\u001b[0;34m(\u001b[0m\u001b[0;34m)\u001b[0m\u001b[0;34m\u001b[0m\u001b[0;34m\u001b[0m\u001b[0m\n\u001b[1;32m      4\u001b[0m \u001b[0;32mimport\u001b[0m \u001b[0mio\u001b[0m\u001b[0;34m\u001b[0m\u001b[0;34m\u001b[0m\u001b[0m\n\u001b[0;32m----> 5\u001b[0;31m \u001b[0mdf2\u001b[0m \u001b[0;34m=\u001b[0m \u001b[0mpd\u001b[0m\u001b[0;34m.\u001b[0m\u001b[0mread_csv\u001b[0m\u001b[0;34m(\u001b[0m\u001b[0mio\u001b[0m\u001b[0;34m.\u001b[0m\u001b[0mBytesIO\u001b[0m\u001b[0;34m(\u001b[0m\u001b[0muploaded\u001b[0m\u001b[0;34m[\u001b[0m\u001b[0;34m'IBBA_2145xx.csv'\u001b[0m\u001b[0;34m]\u001b[0m\u001b[0;34m)\u001b[0m\u001b[0;34m)\u001b[0m\u001b[0;34m\u001b[0m\u001b[0;34m\u001b[0m\u001b[0m\n\u001b[0m\u001b[1;32m      6\u001b[0m \u001b[0mprint\u001b[0m \u001b[0;34m(\u001b[0m\u001b[0mdf2\u001b[0m\u001b[0;34m)\u001b[0m\u001b[0;34m\u001b[0m\u001b[0;34m\u001b[0m\u001b[0m\n",
            "\u001b[0;31mKeyError\u001b[0m: 'IBBA_2145xx.csv'"
          ]
        }
      ]
    },
    {
      "cell_type": "markdown",
      "source": [
        "# `***ex 5 chap4***`\n",
        "\n",
        "```\n",
        "# This is formatted as code\n",
        "```\n",
        "\n"
      ],
      "metadata": {
        "id": "XYnn7a4i24s8"
      }
    },
    {
      "cell_type": "code",
      "source": [
        "def fred():\n",
        "  print(\"Zap\")\n",
        "def jane():\n",
        "  print(\"ABC\")\n",
        "jane()\n",
        "fred()\n",
        "jane()"
      ],
      "metadata": {
        "id": "hK9mvj728j3p",
        "colab": {
          "base_uri": "https://localhost:8080/"
        },
        "outputId": "a2ee5b07-386f-48fe-cb98-2e4f95fec958"
      },
      "execution_count": 164,
      "outputs": [
        {
          "output_type": "stream",
          "name": "stdout",
          "text": [
            "ABC\n",
            "Zap\n",
            "ABC\n"
          ]
        }
      ]
    },
    {
      "cell_type": "markdown",
      "source": [
        "# ***`ex06`***\n",
        "chap 4"
      ],
      "metadata": {
        "id": "AYAUigmH4ftW"
      }
    },
    {
      "cell_type": "code",
      "source": [
        "def computepay(Hours,rate):\n",
        "  if(Hours>40):\n",
        "    pay=(Hours-40)*1.5*rate+(40*rate)\n",
        "  else:\n",
        "    pay=Hours*rate  \n",
        "  return pay\n",
        "\n",
        "Hours = float(input(\"Enter Hour\\n\"))\n",
        "rate = float(input(\"Enter rate\\n\"))\n",
        "pay = computepay(Hours , rate)  \n",
        "print( 'pay :',pay)"
      ],
      "metadata": {
        "id": "Zeg30SpkkzvM",
        "colab": {
          "base_uri": "https://localhost:8080/"
        },
        "outputId": "e17224cd-cbc5-42ff-f598-cc2996eac498"
      },
      "execution_count": 165,
      "outputs": [
        {
          "output_type": "stream",
          "name": "stdout",
          "text": [
            "Enter Hour\n",
            "33\n",
            "Enter rate\n",
            "44\n",
            "pay : 1452.0\n"
          ]
        }
      ]
    },
    {
      "cell_type": "markdown",
      "source": [
        "# ***`ex 7 cahp 4 `***"
      ],
      "metadata": {
        "id": "79KiKtR2-ci3"
      }
    },
    {
      "cell_type": "code",
      "source": [
        "def computegrade(score):\n",
        "  if(score<0.0 or score>1.0) :\n",
        "    return(\"Score is out of range!!\")\n",
        "  elif(score>=0.9):\n",
        "    return(\"A\")\n",
        "  elif(score>=0.8):\n",
        "    return(\"B\")\n",
        "  elif(score>=0.7):\n",
        "    return(\"C\")\n",
        "  elif(score>=0.6):\n",
        "    return(\"D\")      \n",
        "  else:\n",
        "    return(\"F\")\n",
        "try:\n",
        "  score=float(input(\"Enter your score\\n\"))\n",
        "  print(computegrade(score))\n",
        "except Exception :\n",
        "  print('Enter a number!!!!!')"
      ],
      "metadata": {
        "id": "JtOuAqCnmJvH",
        "colab": {
          "base_uri": "https://localhost:8080/"
        },
        "outputId": "f6a54197-7467-4a7d-ca10-5df3f00c856e"
      },
      "execution_count": 166,
      "outputs": [
        {
          "output_type": "stream",
          "name": "stdout",
          "text": [
            "Enter your score\n",
            "55\n",
            "Score is out of range!!\n"
          ]
        }
      ]
    },
    {
      "cell_type": "markdown",
      "source": [
        "# ***`ex1 chap itration`***"
      ],
      "metadata": {
        "id": "EgnJdgd7_YMo"
      }
    },
    {
      "cell_type": "code",
      "source": [
        "\n",
        "count=0\n",
        "total=0\n",
        "while True :\n",
        "  value=input('Enter the number\\n')\n",
        "  if (value=='done'):\n",
        "    break\n",
        "  try:\n",
        "    value1=float(value)\n",
        "  except:\n",
        "    print('Invalid input')\n",
        "  total=total+value1\n",
        "  count=count+1\n",
        "print(total,count,total/count)"
      ],
      "metadata": {
        "id": "OrPaQhSRnDiS",
        "colab": {
          "base_uri": "https://localhost:8080/",
          "height": 571
        },
        "outputId": "31d675b5-6f22-430f-9477-4bccdc63797d"
      },
      "execution_count": 181,
      "outputs": [
        {
          "name": "stdout",
          "output_type": "stream",
          "text": [
            "Enter the number\n",
            "23\n"
          ]
        },
        {
          "output_type": "error",
          "ename": "KeyboardInterrupt",
          "evalue": "ignored",
          "traceback": [
            "\u001b[0;31m---------------------------------------------------------------------------\u001b[0m",
            "\u001b[0;31mKeyboardInterrupt\u001b[0m                         Traceback (most recent call last)",
            "\u001b[0;32m/usr/local/lib/python3.7/dist-packages/ipykernel/kernelbase.py\u001b[0m in \u001b[0;36m_input_request\u001b[0;34m(self, prompt, ident, parent, password)\u001b[0m\n\u001b[1;32m    728\u001b[0m             \u001b[0;32mtry\u001b[0m\u001b[0;34m:\u001b[0m\u001b[0;34m\u001b[0m\u001b[0;34m\u001b[0m\u001b[0m\n\u001b[0;32m--> 729\u001b[0;31m                 \u001b[0mident\u001b[0m\u001b[0;34m,\u001b[0m \u001b[0mreply\u001b[0m \u001b[0;34m=\u001b[0m \u001b[0mself\u001b[0m\u001b[0;34m.\u001b[0m\u001b[0msession\u001b[0m\u001b[0;34m.\u001b[0m\u001b[0mrecv\u001b[0m\u001b[0;34m(\u001b[0m\u001b[0mself\u001b[0m\u001b[0;34m.\u001b[0m\u001b[0mstdin_socket\u001b[0m\u001b[0;34m,\u001b[0m \u001b[0;36m0\u001b[0m\u001b[0;34m)\u001b[0m\u001b[0;34m\u001b[0m\u001b[0;34m\u001b[0m\u001b[0m\n\u001b[0m\u001b[1;32m    730\u001b[0m             \u001b[0;32mexcept\u001b[0m \u001b[0mException\u001b[0m\u001b[0;34m:\u001b[0m\u001b[0;34m\u001b[0m\u001b[0;34m\u001b[0m\u001b[0m\n",
            "\u001b[0;32m/usr/local/lib/python3.7/dist-packages/jupyter_client/session.py\u001b[0m in \u001b[0;36mrecv\u001b[0;34m(self, socket, mode, content, copy)\u001b[0m\n\u001b[1;32m    802\u001b[0m         \u001b[0;32mtry\u001b[0m\u001b[0;34m:\u001b[0m\u001b[0;34m\u001b[0m\u001b[0;34m\u001b[0m\u001b[0m\n\u001b[0;32m--> 803\u001b[0;31m             \u001b[0mmsg_list\u001b[0m \u001b[0;34m=\u001b[0m \u001b[0msocket\u001b[0m\u001b[0;34m.\u001b[0m\u001b[0mrecv_multipart\u001b[0m\u001b[0;34m(\u001b[0m\u001b[0mmode\u001b[0m\u001b[0;34m,\u001b[0m \u001b[0mcopy\u001b[0m\u001b[0;34m=\u001b[0m\u001b[0mcopy\u001b[0m\u001b[0;34m)\u001b[0m\u001b[0;34m\u001b[0m\u001b[0;34m\u001b[0m\u001b[0m\n\u001b[0m\u001b[1;32m    804\u001b[0m         \u001b[0;32mexcept\u001b[0m \u001b[0mzmq\u001b[0m\u001b[0;34m.\u001b[0m\u001b[0mZMQError\u001b[0m \u001b[0;32mas\u001b[0m \u001b[0me\u001b[0m\u001b[0;34m:\u001b[0m\u001b[0;34m\u001b[0m\u001b[0;34m\u001b[0m\u001b[0m\n",
            "\u001b[0;32m/usr/local/lib/python3.7/dist-packages/zmq/sugar/socket.py\u001b[0m in \u001b[0;36mrecv_multipart\u001b[0;34m(self, flags, copy, track)\u001b[0m\n\u001b[1;32m    624\u001b[0m         \"\"\"\n\u001b[0;32m--> 625\u001b[0;31m         \u001b[0mparts\u001b[0m \u001b[0;34m=\u001b[0m \u001b[0;34m[\u001b[0m\u001b[0mself\u001b[0m\u001b[0;34m.\u001b[0m\u001b[0mrecv\u001b[0m\u001b[0;34m(\u001b[0m\u001b[0mflags\u001b[0m\u001b[0;34m,\u001b[0m \u001b[0mcopy\u001b[0m\u001b[0;34m=\u001b[0m\u001b[0mcopy\u001b[0m\u001b[0;34m,\u001b[0m \u001b[0mtrack\u001b[0m\u001b[0;34m=\u001b[0m\u001b[0mtrack\u001b[0m\u001b[0;34m)\u001b[0m\u001b[0;34m]\u001b[0m\u001b[0;34m\u001b[0m\u001b[0;34m\u001b[0m\u001b[0m\n\u001b[0m\u001b[1;32m    626\u001b[0m         \u001b[0;31m# have first part already, only loop while more to receive\u001b[0m\u001b[0;34m\u001b[0m\u001b[0;34m\u001b[0m\u001b[0;34m\u001b[0m\u001b[0m\n",
            "\u001b[0;32mzmq/backend/cython/socket.pyx\u001b[0m in \u001b[0;36mzmq.backend.cython.socket.Socket.recv\u001b[0;34m()\u001b[0m\n",
            "\u001b[0;32mzmq/backend/cython/socket.pyx\u001b[0m in \u001b[0;36mzmq.backend.cython.socket.Socket.recv\u001b[0;34m()\u001b[0m\n",
            "\u001b[0;32mzmq/backend/cython/socket.pyx\u001b[0m in \u001b[0;36mzmq.backend.cython.socket._recv_copy\u001b[0;34m()\u001b[0m\n",
            "\u001b[0;32m/usr/local/lib/python3.7/dist-packages/zmq/backend/cython/checkrc.pxd\u001b[0m in \u001b[0;36mzmq.backend.cython.checkrc._check_rc\u001b[0;34m()\u001b[0m\n",
            "\u001b[0;31mKeyboardInterrupt\u001b[0m: ",
            "\nDuring handling of the above exception, another exception occurred:\n",
            "\u001b[0;31mKeyboardInterrupt\u001b[0m                         Traceback (most recent call last)",
            "\u001b[0;32m<ipython-input-181-9a34058c1f4f>\u001b[0m in \u001b[0;36m<module>\u001b[0;34m()\u001b[0m\n\u001b[1;32m      3\u001b[0m \u001b[0mtotal\u001b[0m\u001b[0;34m=\u001b[0m\u001b[0;36m0\u001b[0m\u001b[0;34m\u001b[0m\u001b[0;34m\u001b[0m\u001b[0m\n\u001b[1;32m      4\u001b[0m \u001b[0;32mwhile\u001b[0m \u001b[0;32mTrue\u001b[0m \u001b[0;34m:\u001b[0m\u001b[0;34m\u001b[0m\u001b[0;34m\u001b[0m\u001b[0m\n\u001b[0;32m----> 5\u001b[0;31m   \u001b[0mvalue\u001b[0m\u001b[0;34m=\u001b[0m\u001b[0minput\u001b[0m\u001b[0;34m(\u001b[0m\u001b[0;34m'Enter the number\\n'\u001b[0m\u001b[0;34m)\u001b[0m\u001b[0;34m\u001b[0m\u001b[0;34m\u001b[0m\u001b[0m\n\u001b[0m\u001b[1;32m      6\u001b[0m   \u001b[0;32mif\u001b[0m \u001b[0;34m(\u001b[0m\u001b[0mvalue\u001b[0m\u001b[0;34m==\u001b[0m\u001b[0;34m'done'\u001b[0m\u001b[0;34m)\u001b[0m\u001b[0;34m:\u001b[0m\u001b[0;34m\u001b[0m\u001b[0;34m\u001b[0m\u001b[0m\n\u001b[1;32m      7\u001b[0m     \u001b[0;32mbreak\u001b[0m\u001b[0;34m\u001b[0m\u001b[0;34m\u001b[0m\u001b[0m\n",
            "\u001b[0;32m/usr/local/lib/python3.7/dist-packages/ipykernel/kernelbase.py\u001b[0m in \u001b[0;36mraw_input\u001b[0;34m(self, prompt)\u001b[0m\n\u001b[1;32m    702\u001b[0m             \u001b[0mself\u001b[0m\u001b[0;34m.\u001b[0m\u001b[0m_parent_ident\u001b[0m\u001b[0;34m,\u001b[0m\u001b[0;34m\u001b[0m\u001b[0;34m\u001b[0m\u001b[0m\n\u001b[1;32m    703\u001b[0m             \u001b[0mself\u001b[0m\u001b[0;34m.\u001b[0m\u001b[0m_parent_header\u001b[0m\u001b[0;34m,\u001b[0m\u001b[0;34m\u001b[0m\u001b[0;34m\u001b[0m\u001b[0m\n\u001b[0;32m--> 704\u001b[0;31m             \u001b[0mpassword\u001b[0m\u001b[0;34m=\u001b[0m\u001b[0;32mFalse\u001b[0m\u001b[0;34m,\u001b[0m\u001b[0;34m\u001b[0m\u001b[0;34m\u001b[0m\u001b[0m\n\u001b[0m\u001b[1;32m    705\u001b[0m         )\n\u001b[1;32m    706\u001b[0m \u001b[0;34m\u001b[0m\u001b[0m\n",
            "\u001b[0;32m/usr/local/lib/python3.7/dist-packages/ipykernel/kernelbase.py\u001b[0m in \u001b[0;36m_input_request\u001b[0;34m(self, prompt, ident, parent, password)\u001b[0m\n\u001b[1;32m    732\u001b[0m             \u001b[0;32mexcept\u001b[0m \u001b[0mKeyboardInterrupt\u001b[0m\u001b[0;34m:\u001b[0m\u001b[0;34m\u001b[0m\u001b[0;34m\u001b[0m\u001b[0m\n\u001b[1;32m    733\u001b[0m                 \u001b[0;31m# re-raise KeyboardInterrupt, to truncate traceback\u001b[0m\u001b[0;34m\u001b[0m\u001b[0;34m\u001b[0m\u001b[0;34m\u001b[0m\u001b[0m\n\u001b[0;32m--> 734\u001b[0;31m                 \u001b[0;32mraise\u001b[0m \u001b[0mKeyboardInterrupt\u001b[0m\u001b[0;34m\u001b[0m\u001b[0;34m\u001b[0m\u001b[0m\n\u001b[0m\u001b[1;32m    735\u001b[0m             \u001b[0;32melse\u001b[0m\u001b[0;34m:\u001b[0m\u001b[0;34m\u001b[0m\u001b[0;34m\u001b[0m\u001b[0m\n\u001b[1;32m    736\u001b[0m                 \u001b[0;32mbreak\u001b[0m\u001b[0;34m\u001b[0m\u001b[0;34m\u001b[0m\u001b[0m\n",
            "\u001b[0;31mKeyboardInterrupt\u001b[0m: "
          ]
        }
      ]
    },
    {
      "cell_type": "markdown",
      "source": [
        "# ***`ex 2 chap itration`***"
      ],
      "metadata": {
        "id": "ZYuChXZdVDJD"
      }
    },
    {
      "cell_type": "code",
      "source": [
        "count=0\n",
        "list=[]\n",
        "while True :\n",
        "  element=input('Enter the number\\n')\n",
        "  if (element=='done'):\n",
        "    break\n",
        "  try:\n",
        "    value1=float(element)\n",
        "    list.append(value1)\n",
        "    \n",
        "  except:\n",
        "    print('Invalid input')\n",
        "\n",
        "  if count==0 :\n",
        "    min_val=value1\n",
        "    max_val=value1\n",
        "  elif value1<min_val:\n",
        "    min_val=value1\n",
        "  elif value1>max_val:\n",
        "    max_val=value1\n",
        "\n",
        "  count=count+1\n",
        "print('The list of ements are :',list)\n",
        "print(min_val , max_val)"
      ],
      "metadata": {
        "id": "z4Ezp6NgnmlC",
        "colab": {
          "base_uri": "https://localhost:8080/"
        },
        "outputId": "40446948-5d7f-46b7-c2d3-bd839e583ae8"
      },
      "execution_count": 182,
      "outputs": [
        {
          "output_type": "stream",
          "name": "stdout",
          "text": [
            "Enter the number\n",
            "34\n",
            "Enter the number\n",
            "12\n",
            "Enter the number\n",
            "45\n",
            "Enter the number\n",
            "32\n",
            "Enter the number\n",
            "54\n",
            "Enter the number\n",
            "43\n",
            "Enter the number\n",
            "43\n",
            "Enter the number\n",
            "done\n",
            "The list of ements are : [34.0, 12.0, 45.0, 32.0, 54.0, 43.0, 43.0]\n",
            "12.0 54.0\n"
          ]
        }
      ]
    },
    {
      "cell_type": "markdown",
      "source": [
        "\n",
        "\n"
      ],
      "metadata": {
        "id": "DYqyoVuKGW5x"
      }
    },
    {
      "cell_type": "code",
      "source": [
        "import numpy as np\n",
        "import pandas as pd\n",
        "import matplotlib.pyplot as plt\n",
        "import seaborn as sns\n",
        "import warnings\n",
        "warnings.filterwarnings('ignore')"
      ],
      "metadata": {
        "id": "bTdFAJnnGWrK"
      },
      "execution_count": 183,
      "outputs": []
    },
    {
      "cell_type": "code",
      "source": [
        "from google.colab import drive\n",
        "drive.mount('/content/drive')\n",
        "data = pd.read_csv(\"Shark_Tank_India_S1.csv\")"
      ],
      "metadata": {
        "id": "s8DNqkw6uJ7A",
        "colab": {
          "base_uri": "https://localhost:8080/",
          "height": 381
        },
        "outputId": "e1be808a-6d82-48c4-b720-c2d2425db1e2"
      },
      "execution_count": 184,
      "outputs": [
        {
          "output_type": "stream",
          "name": "stdout",
          "text": [
            "Drive already mounted at /content/drive; to attempt to forcibly remount, call drive.mount(\"/content/drive\", force_remount=True).\n"
          ]
        },
        {
          "output_type": "error",
          "ename": "FileNotFoundError",
          "evalue": "ignored",
          "traceback": [
            "\u001b[0;31m---------------------------------------------------------------------------\u001b[0m",
            "\u001b[0;31mFileNotFoundError\u001b[0m                         Traceback (most recent call last)",
            "\u001b[0;32m<ipython-input-184-40274ca243b7>\u001b[0m in \u001b[0;36m<module>\u001b[0;34m()\u001b[0m\n\u001b[1;32m      1\u001b[0m \u001b[0;32mfrom\u001b[0m \u001b[0mgoogle\u001b[0m\u001b[0;34m.\u001b[0m\u001b[0mcolab\u001b[0m \u001b[0;32mimport\u001b[0m \u001b[0mdrive\u001b[0m\u001b[0;34m\u001b[0m\u001b[0;34m\u001b[0m\u001b[0m\n\u001b[1;32m      2\u001b[0m \u001b[0mdrive\u001b[0m\u001b[0;34m.\u001b[0m\u001b[0mmount\u001b[0m\u001b[0;34m(\u001b[0m\u001b[0;34m'/content/drive'\u001b[0m\u001b[0;34m)\u001b[0m\u001b[0;34m\u001b[0m\u001b[0;34m\u001b[0m\u001b[0m\n\u001b[0;32m----> 3\u001b[0;31m \u001b[0mdata\u001b[0m \u001b[0;34m=\u001b[0m \u001b[0mpd\u001b[0m\u001b[0;34m.\u001b[0m\u001b[0mread_csv\u001b[0m\u001b[0;34m(\u001b[0m\u001b[0;34m\"Shark_Tank_India_S1.csv\"\u001b[0m\u001b[0;34m)\u001b[0m\u001b[0;34m\u001b[0m\u001b[0;34m\u001b[0m\u001b[0m\n\u001b[0m",
            "\u001b[0;32m/usr/local/lib/python3.7/dist-packages/pandas/util/_decorators.py\u001b[0m in \u001b[0;36mwrapper\u001b[0;34m(*args, **kwargs)\u001b[0m\n\u001b[1;32m    309\u001b[0m                     \u001b[0mstacklevel\u001b[0m\u001b[0;34m=\u001b[0m\u001b[0mstacklevel\u001b[0m\u001b[0;34m,\u001b[0m\u001b[0;34m\u001b[0m\u001b[0;34m\u001b[0m\u001b[0m\n\u001b[1;32m    310\u001b[0m                 )\n\u001b[0;32m--> 311\u001b[0;31m             \u001b[0;32mreturn\u001b[0m \u001b[0mfunc\u001b[0m\u001b[0;34m(\u001b[0m\u001b[0;34m*\u001b[0m\u001b[0margs\u001b[0m\u001b[0;34m,\u001b[0m \u001b[0;34m**\u001b[0m\u001b[0mkwargs\u001b[0m\u001b[0;34m)\u001b[0m\u001b[0;34m\u001b[0m\u001b[0;34m\u001b[0m\u001b[0m\n\u001b[0m\u001b[1;32m    312\u001b[0m \u001b[0;34m\u001b[0m\u001b[0m\n\u001b[1;32m    313\u001b[0m         \u001b[0;32mreturn\u001b[0m \u001b[0mwrapper\u001b[0m\u001b[0;34m\u001b[0m\u001b[0;34m\u001b[0m\u001b[0m\n",
            "\u001b[0;32m/usr/local/lib/python3.7/dist-packages/pandas/io/parsers/readers.py\u001b[0m in \u001b[0;36mread_csv\u001b[0;34m(filepath_or_buffer, sep, delimiter, header, names, index_col, usecols, squeeze, prefix, mangle_dupe_cols, dtype, engine, converters, true_values, false_values, skipinitialspace, skiprows, skipfooter, nrows, na_values, keep_default_na, na_filter, verbose, skip_blank_lines, parse_dates, infer_datetime_format, keep_date_col, date_parser, dayfirst, cache_dates, iterator, chunksize, compression, thousands, decimal, lineterminator, quotechar, quoting, doublequote, escapechar, comment, encoding, encoding_errors, dialect, error_bad_lines, warn_bad_lines, on_bad_lines, delim_whitespace, low_memory, memory_map, float_precision, storage_options)\u001b[0m\n\u001b[1;32m    584\u001b[0m     \u001b[0mkwds\u001b[0m\u001b[0;34m.\u001b[0m\u001b[0mupdate\u001b[0m\u001b[0;34m(\u001b[0m\u001b[0mkwds_defaults\u001b[0m\u001b[0;34m)\u001b[0m\u001b[0;34m\u001b[0m\u001b[0;34m\u001b[0m\u001b[0m\n\u001b[1;32m    585\u001b[0m \u001b[0;34m\u001b[0m\u001b[0m\n\u001b[0;32m--> 586\u001b[0;31m     \u001b[0;32mreturn\u001b[0m \u001b[0m_read\u001b[0m\u001b[0;34m(\u001b[0m\u001b[0mfilepath_or_buffer\u001b[0m\u001b[0;34m,\u001b[0m \u001b[0mkwds\u001b[0m\u001b[0;34m)\u001b[0m\u001b[0;34m\u001b[0m\u001b[0;34m\u001b[0m\u001b[0m\n\u001b[0m\u001b[1;32m    587\u001b[0m \u001b[0;34m\u001b[0m\u001b[0m\n\u001b[1;32m    588\u001b[0m \u001b[0;34m\u001b[0m\u001b[0m\n",
            "\u001b[0;32m/usr/local/lib/python3.7/dist-packages/pandas/io/parsers/readers.py\u001b[0m in \u001b[0;36m_read\u001b[0;34m(filepath_or_buffer, kwds)\u001b[0m\n\u001b[1;32m    480\u001b[0m \u001b[0;34m\u001b[0m\u001b[0m\n\u001b[1;32m    481\u001b[0m     \u001b[0;31m# Create the parser.\u001b[0m\u001b[0;34m\u001b[0m\u001b[0;34m\u001b[0m\u001b[0;34m\u001b[0m\u001b[0m\n\u001b[0;32m--> 482\u001b[0;31m     \u001b[0mparser\u001b[0m \u001b[0;34m=\u001b[0m \u001b[0mTextFileReader\u001b[0m\u001b[0;34m(\u001b[0m\u001b[0mfilepath_or_buffer\u001b[0m\u001b[0;34m,\u001b[0m \u001b[0;34m**\u001b[0m\u001b[0mkwds\u001b[0m\u001b[0;34m)\u001b[0m\u001b[0;34m\u001b[0m\u001b[0;34m\u001b[0m\u001b[0m\n\u001b[0m\u001b[1;32m    483\u001b[0m \u001b[0;34m\u001b[0m\u001b[0m\n\u001b[1;32m    484\u001b[0m     \u001b[0;32mif\u001b[0m \u001b[0mchunksize\u001b[0m \u001b[0;32mor\u001b[0m \u001b[0miterator\u001b[0m\u001b[0;34m:\u001b[0m\u001b[0;34m\u001b[0m\u001b[0;34m\u001b[0m\u001b[0m\n",
            "\u001b[0;32m/usr/local/lib/python3.7/dist-packages/pandas/io/parsers/readers.py\u001b[0m in \u001b[0;36m__init__\u001b[0;34m(self, f, engine, **kwds)\u001b[0m\n\u001b[1;32m    809\u001b[0m             \u001b[0mself\u001b[0m\u001b[0;34m.\u001b[0m\u001b[0moptions\u001b[0m\u001b[0;34m[\u001b[0m\u001b[0;34m\"has_index_names\"\u001b[0m\u001b[0;34m]\u001b[0m \u001b[0;34m=\u001b[0m \u001b[0mkwds\u001b[0m\u001b[0;34m[\u001b[0m\u001b[0;34m\"has_index_names\"\u001b[0m\u001b[0;34m]\u001b[0m\u001b[0;34m\u001b[0m\u001b[0;34m\u001b[0m\u001b[0m\n\u001b[1;32m    810\u001b[0m \u001b[0;34m\u001b[0m\u001b[0m\n\u001b[0;32m--> 811\u001b[0;31m         \u001b[0mself\u001b[0m\u001b[0;34m.\u001b[0m\u001b[0m_engine\u001b[0m \u001b[0;34m=\u001b[0m \u001b[0mself\u001b[0m\u001b[0;34m.\u001b[0m\u001b[0m_make_engine\u001b[0m\u001b[0;34m(\u001b[0m\u001b[0mself\u001b[0m\u001b[0;34m.\u001b[0m\u001b[0mengine\u001b[0m\u001b[0;34m)\u001b[0m\u001b[0;34m\u001b[0m\u001b[0;34m\u001b[0m\u001b[0m\n\u001b[0m\u001b[1;32m    812\u001b[0m \u001b[0;34m\u001b[0m\u001b[0m\n\u001b[1;32m    813\u001b[0m     \u001b[0;32mdef\u001b[0m \u001b[0mclose\u001b[0m\u001b[0;34m(\u001b[0m\u001b[0mself\u001b[0m\u001b[0;34m)\u001b[0m\u001b[0;34m:\u001b[0m\u001b[0;34m\u001b[0m\u001b[0;34m\u001b[0m\u001b[0m\n",
            "\u001b[0;32m/usr/local/lib/python3.7/dist-packages/pandas/io/parsers/readers.py\u001b[0m in \u001b[0;36m_make_engine\u001b[0;34m(self, engine)\u001b[0m\n\u001b[1;32m   1038\u001b[0m             )\n\u001b[1;32m   1039\u001b[0m         \u001b[0;31m# error: Too many arguments for \"ParserBase\"\u001b[0m\u001b[0;34m\u001b[0m\u001b[0;34m\u001b[0m\u001b[0;34m\u001b[0m\u001b[0m\n\u001b[0;32m-> 1040\u001b[0;31m         \u001b[0;32mreturn\u001b[0m \u001b[0mmapping\u001b[0m\u001b[0;34m[\u001b[0m\u001b[0mengine\u001b[0m\u001b[0;34m]\u001b[0m\u001b[0;34m(\u001b[0m\u001b[0mself\u001b[0m\u001b[0;34m.\u001b[0m\u001b[0mf\u001b[0m\u001b[0;34m,\u001b[0m \u001b[0;34m**\u001b[0m\u001b[0mself\u001b[0m\u001b[0;34m.\u001b[0m\u001b[0moptions\u001b[0m\u001b[0;34m)\u001b[0m  \u001b[0;31m# type: ignore[call-arg]\u001b[0m\u001b[0;34m\u001b[0m\u001b[0;34m\u001b[0m\u001b[0m\n\u001b[0m\u001b[1;32m   1041\u001b[0m \u001b[0;34m\u001b[0m\u001b[0m\n\u001b[1;32m   1042\u001b[0m     \u001b[0;32mdef\u001b[0m \u001b[0m_failover_to_python\u001b[0m\u001b[0;34m(\u001b[0m\u001b[0mself\u001b[0m\u001b[0;34m)\u001b[0m\u001b[0;34m:\u001b[0m\u001b[0;34m\u001b[0m\u001b[0;34m\u001b[0m\u001b[0m\n",
            "\u001b[0;32m/usr/local/lib/python3.7/dist-packages/pandas/io/parsers/c_parser_wrapper.py\u001b[0m in \u001b[0;36m__init__\u001b[0;34m(self, src, **kwds)\u001b[0m\n\u001b[1;32m     49\u001b[0m \u001b[0;34m\u001b[0m\u001b[0m\n\u001b[1;32m     50\u001b[0m         \u001b[0;31m# open handles\u001b[0m\u001b[0;34m\u001b[0m\u001b[0;34m\u001b[0m\u001b[0;34m\u001b[0m\u001b[0m\n\u001b[0;32m---> 51\u001b[0;31m         \u001b[0mself\u001b[0m\u001b[0;34m.\u001b[0m\u001b[0m_open_handles\u001b[0m\u001b[0;34m(\u001b[0m\u001b[0msrc\u001b[0m\u001b[0;34m,\u001b[0m \u001b[0mkwds\u001b[0m\u001b[0;34m)\u001b[0m\u001b[0;34m\u001b[0m\u001b[0;34m\u001b[0m\u001b[0m\n\u001b[0m\u001b[1;32m     52\u001b[0m         \u001b[0;32massert\u001b[0m \u001b[0mself\u001b[0m\u001b[0;34m.\u001b[0m\u001b[0mhandles\u001b[0m \u001b[0;32mis\u001b[0m \u001b[0;32mnot\u001b[0m \u001b[0;32mNone\u001b[0m\u001b[0;34m\u001b[0m\u001b[0;34m\u001b[0m\u001b[0m\n\u001b[1;32m     53\u001b[0m \u001b[0;34m\u001b[0m\u001b[0m\n",
            "\u001b[0;32m/usr/local/lib/python3.7/dist-packages/pandas/io/parsers/base_parser.py\u001b[0m in \u001b[0;36m_open_handles\u001b[0;34m(self, src, kwds)\u001b[0m\n\u001b[1;32m    227\u001b[0m             \u001b[0mmemory_map\u001b[0m\u001b[0;34m=\u001b[0m\u001b[0mkwds\u001b[0m\u001b[0;34m.\u001b[0m\u001b[0mget\u001b[0m\u001b[0;34m(\u001b[0m\u001b[0;34m\"memory_map\"\u001b[0m\u001b[0;34m,\u001b[0m \u001b[0;32mFalse\u001b[0m\u001b[0;34m)\u001b[0m\u001b[0;34m,\u001b[0m\u001b[0;34m\u001b[0m\u001b[0;34m\u001b[0m\u001b[0m\n\u001b[1;32m    228\u001b[0m             \u001b[0mstorage_options\u001b[0m\u001b[0;34m=\u001b[0m\u001b[0mkwds\u001b[0m\u001b[0;34m.\u001b[0m\u001b[0mget\u001b[0m\u001b[0;34m(\u001b[0m\u001b[0;34m\"storage_options\"\u001b[0m\u001b[0;34m,\u001b[0m \u001b[0;32mNone\u001b[0m\u001b[0;34m)\u001b[0m\u001b[0;34m,\u001b[0m\u001b[0;34m\u001b[0m\u001b[0;34m\u001b[0m\u001b[0m\n\u001b[0;32m--> 229\u001b[0;31m             \u001b[0merrors\u001b[0m\u001b[0;34m=\u001b[0m\u001b[0mkwds\u001b[0m\u001b[0;34m.\u001b[0m\u001b[0mget\u001b[0m\u001b[0;34m(\u001b[0m\u001b[0;34m\"encoding_errors\"\u001b[0m\u001b[0;34m,\u001b[0m \u001b[0;34m\"strict\"\u001b[0m\u001b[0;34m)\u001b[0m\u001b[0;34m,\u001b[0m\u001b[0;34m\u001b[0m\u001b[0;34m\u001b[0m\u001b[0m\n\u001b[0m\u001b[1;32m    230\u001b[0m         )\n\u001b[1;32m    231\u001b[0m \u001b[0;34m\u001b[0m\u001b[0m\n",
            "\u001b[0;32m/usr/local/lib/python3.7/dist-packages/pandas/io/common.py\u001b[0m in \u001b[0;36mget_handle\u001b[0;34m(path_or_buf, mode, encoding, compression, memory_map, is_text, errors, storage_options)\u001b[0m\n\u001b[1;32m    705\u001b[0m                 \u001b[0mencoding\u001b[0m\u001b[0;34m=\u001b[0m\u001b[0mioargs\u001b[0m\u001b[0;34m.\u001b[0m\u001b[0mencoding\u001b[0m\u001b[0;34m,\u001b[0m\u001b[0;34m\u001b[0m\u001b[0;34m\u001b[0m\u001b[0m\n\u001b[1;32m    706\u001b[0m                 \u001b[0merrors\u001b[0m\u001b[0;34m=\u001b[0m\u001b[0merrors\u001b[0m\u001b[0;34m,\u001b[0m\u001b[0;34m\u001b[0m\u001b[0;34m\u001b[0m\u001b[0m\n\u001b[0;32m--> 707\u001b[0;31m                 \u001b[0mnewline\u001b[0m\u001b[0;34m=\u001b[0m\u001b[0;34m\"\"\u001b[0m\u001b[0;34m,\u001b[0m\u001b[0;34m\u001b[0m\u001b[0;34m\u001b[0m\u001b[0m\n\u001b[0m\u001b[1;32m    708\u001b[0m             )\n\u001b[1;32m    709\u001b[0m         \u001b[0;32melse\u001b[0m\u001b[0;34m:\u001b[0m\u001b[0;34m\u001b[0m\u001b[0;34m\u001b[0m\u001b[0m\n",
            "\u001b[0;31mFileNotFoundError\u001b[0m: [Errno 2] No such file or directory: 'Shark_Tank_India_S1.csv'"
          ]
        }
      ]
    },
    {
      "cell_type": "code",
      "source": [
        "#reading the data\n",
        "data"
      ],
      "metadata": {
        "id": "7zD_v1SzwI-X",
        "colab": {
          "base_uri": "https://localhost:8080/",
          "height": 35
        },
        "outputId": "a7de2d50-a3da-445e-8716-922785075aaf"
      },
      "execution_count": 178,
      "outputs": [
        {
          "output_type": "execute_result",
          "data": {
            "text/plain": [
              "'zqian@umich.edu'"
            ],
            "application/vnd.google.colaboratory.intrinsic+json": {
              "type": "string"
            }
          },
          "metadata": {},
          "execution_count": 178
        }
      ]
    },
    {
      "cell_type": "code",
      "source": [
        "#displays the top 5 entries in the dataset\n",
        "data.head ()"
      ],
      "metadata": {
        "id": "pCDzqzDxwAsh",
        "colab": {
          "base_uri": "https://localhost:8080/",
          "height": 183
        },
        "outputId": "5306fcaa-ac74-432b-8a74-b937aa82a397"
      },
      "execution_count": 185,
      "outputs": [
        {
          "output_type": "error",
          "ename": "AttributeError",
          "evalue": "ignored",
          "traceback": [
            "\u001b[0;31m---------------------------------------------------------------------------\u001b[0m",
            "\u001b[0;31mAttributeError\u001b[0m                            Traceback (most recent call last)",
            "\u001b[0;32m<ipython-input-185-e6d935401411>\u001b[0m in \u001b[0;36m<module>\u001b[0;34m()\u001b[0m\n\u001b[1;32m      1\u001b[0m \u001b[0;31m#displays the top 5 entries in the dataset\u001b[0m\u001b[0;34m\u001b[0m\u001b[0;34m\u001b[0m\u001b[0;34m\u001b[0m\u001b[0m\n\u001b[0;32m----> 2\u001b[0;31m \u001b[0mdata\u001b[0m\u001b[0;34m.\u001b[0m\u001b[0mhead\u001b[0m \u001b[0;34m(\u001b[0m\u001b[0;34m)\u001b[0m\u001b[0;34m\u001b[0m\u001b[0;34m\u001b[0m\u001b[0m\n\u001b[0m",
            "\u001b[0;31mAttributeError\u001b[0m: 'str' object has no attribute 'head'"
          ]
        }
      ]
    },
    {
      "cell_type": "code",
      "source": [
        "data.tail()"
      ],
      "metadata": {
        "id": "7REc6b27ws8Q"
      },
      "execution_count": null,
      "outputs": []
    },
    {
      "cell_type": "code",
      "source": [
        "data.shape"
      ],
      "metadata": {
        "id": "6q3H72Frwo4L",
        "colab": {
          "base_uri": "https://localhost:8080/",
          "height": 166
        },
        "outputId": "ff7bddad-e175-4b53-8a05-d462f94f15f4"
      },
      "execution_count": 180,
      "outputs": [
        {
          "output_type": "error",
          "ename": "AttributeError",
          "evalue": "ignored",
          "traceback": [
            "\u001b[0;31m---------------------------------------------------------------------------\u001b[0m",
            "\u001b[0;31mAttributeError\u001b[0m                            Traceback (most recent call last)",
            "\u001b[0;32m<ipython-input-180-047ed65ff157>\u001b[0m in \u001b[0;36m<module>\u001b[0;34m()\u001b[0m\n\u001b[0;32m----> 1\u001b[0;31m \u001b[0mdata\u001b[0m\u001b[0;34m.\u001b[0m\u001b[0mshape\u001b[0m\u001b[0;34m\u001b[0m\u001b[0;34m\u001b[0m\u001b[0m\n\u001b[0m",
            "\u001b[0;31mAttributeError\u001b[0m: 'str' object has no attribute 'shape'"
          ]
        }
      ]
    },
    {
      "cell_type": "code",
      "source": [
        "data.columns"
      ],
      "metadata": {
        "id": "mA1cuajqxDEh"
      },
      "execution_count": null,
      "outputs": []
    },
    {
      "cell_type": "code",
      "source": [
        ""
      ],
      "metadata": {
        "id": "nzB-M8ZyXfr6"
      },
      "execution_count": null,
      "outputs": []
    },
    {
      "cell_type": "markdown",
      "source": [
        "## `Dictionaries`![download (3).jfif](data:image/jpeg;base64,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)\n"
      ],
      "metadata": {
        "id": "S2rL2ocLXDVg"
      }
    },
    {
      "cell_type": "code",
      "source": [
        "eng2sp = dict()\n",
        "print(eng2sp)\n",
        "eng2sp['one'] = 'uno'\n",
        "print(eng2sp)"
      ],
      "metadata": {
        "id": "_swLT-YYZzLx",
        "colab": {
          "base_uri": "https://localhost:8080/"
        },
        "outputId": "44ce9b71-486c-4e17-8040-d4e04e590431"
      },
      "execution_count": 186,
      "outputs": [
        {
          "output_type": "stream",
          "name": "stdout",
          "text": [
            "{}\n",
            "{'one': 'uno'}\n"
          ]
        }
      ]
    },
    {
      "cell_type": "code",
      "source": [
        "# Create the dictionary\n",
        "\n",
        "Dict = {\"key1\": 1, \"key2\": \"2\", \"key3\": [3, 3, 3], \"key4\": (4, 4, 4), ('key5'): 5, (0, 1): 6}\n",
        "Dict"
      ],
      "metadata": {
        "id": "rUQC_3LIZrCb",
        "colab": {
          "base_uri": "https://localhost:8080/"
        },
        "outputId": "76f670be-41d3-4459-c4d4-9675364c0294"
      },
      "execution_count": 187,
      "outputs": [
        {
          "output_type": "execute_result",
          "data": {
            "text/plain": [
              "{(0, 1): 6,\n",
              " 'key1': 1,\n",
              " 'key2': '2',\n",
              " 'key3': [3, 3, 3],\n",
              " 'key4': (4, 4, 4),\n",
              " 'key5': 5}"
            ]
          },
          "metadata": {},
          "execution_count": 187
        }
      ]
    },
    {
      "cell_type": "code",
      "source": [
        "Dict[\"key1\"]"
      ],
      "metadata": {
        "id": "K6hmsY_KYOT0",
        "colab": {
          "base_uri": "https://localhost:8080/"
        },
        "outputId": "9f1557b5-f653-41e2-c691-9453f17e8f17"
      },
      "execution_count": 188,
      "outputs": [
        {
          "output_type": "execute_result",
          "data": {
            "text/plain": [
              "1"
            ]
          },
          "metadata": {},
          "execution_count": 188
        }
      ]
    },
    {
      "cell_type": "code",
      "source": [
        "# Access to the value by the key\n",
        "\n",
        "Dict[(0, 1)]"
      ],
      "metadata": {
        "id": "yCOZsoxLZ7-7",
        "colab": {
          "base_uri": "https://localhost:8080/"
        },
        "outputId": "bb7cf72f-0e7f-4816-f62e-adca0cb4b634"
      },
      "execution_count": 189,
      "outputs": [
        {
          "output_type": "execute_result",
          "data": {
            "text/plain": [
              "6"
            ]
          },
          "metadata": {},
          "execution_count": 189
        }
      ]
    },
    {
      "cell_type": "code",
      "source": [
        "len(eng2sp)"
      ],
      "metadata": {
        "id": "0lUikm0iaX2n",
        "colab": {
          "base_uri": "https://localhost:8080/"
        },
        "outputId": "2aa2184d-94f6-4020-fb4f-7dad1e5de8b4"
      },
      "execution_count": 190,
      "outputs": [
        {
          "output_type": "execute_result",
          "data": {
            "text/plain": [
              "1"
            ]
          },
          "metadata": {},
          "execution_count": 190
        }
      ]
    },
    {
      "cell_type": "markdown",
      "source": [
        "Exercise 1: Download a copy of the file www.py4e.com/code3/words.txt\n",
        "Write a program that reads the words in words.txt and stores them as\n",
        "keys in a dictionary. It doesn’t matter what the values are. Then you\n",
        "can use the in operator as a fast way to check whether a string is in the\n",
        "dictionary"
      ],
      "metadata": {
        "id": "PHCRhUEzdQSk"
      }
    },
    {
      "cell_type": "code",
      "source": [
        "from google.colab import drive\n",
        "drive.mount('/content/drive')\n",
        "data = pd.view_txt(\"words.txt\")"
      ],
      "metadata": {
        "id": "M14u4w4WaxKz",
        "colab": {
          "base_uri": "https://localhost:8080/",
          "height": 339
        },
        "outputId": "80a1a377-f0c9-4a8b-bd60-46b5aea585d9"
      },
      "execution_count": 192,
      "outputs": [
        {
          "output_type": "stream",
          "name": "stdout",
          "text": [
            "Drive already mounted at /content/drive; to attempt to forcibly remount, call drive.mount(\"/content/drive\", force_remount=True).\n"
          ]
        },
        {
          "output_type": "error",
          "ename": "AttributeError",
          "evalue": "ignored",
          "traceback": [
            "\u001b[0;31m---------------------------------------------------------------------------\u001b[0m",
            "\u001b[0;31mAttributeError\u001b[0m                            Traceback (most recent call last)",
            "\u001b[0;32m<ipython-input-192-d475215f49d8>\u001b[0m in \u001b[0;36m<module>\u001b[0;34m()\u001b[0m\n\u001b[1;32m      1\u001b[0m \u001b[0;32mfrom\u001b[0m \u001b[0mgoogle\u001b[0m\u001b[0;34m.\u001b[0m\u001b[0mcolab\u001b[0m \u001b[0;32mimport\u001b[0m \u001b[0mdrive\u001b[0m\u001b[0;34m\u001b[0m\u001b[0;34m\u001b[0m\u001b[0m\n\u001b[1;32m      2\u001b[0m \u001b[0mdrive\u001b[0m\u001b[0;34m.\u001b[0m\u001b[0mmount\u001b[0m\u001b[0;34m(\u001b[0m\u001b[0;34m'/content/drive'\u001b[0m\u001b[0;34m)\u001b[0m\u001b[0;34m\u001b[0m\u001b[0;34m\u001b[0m\u001b[0m\n\u001b[0;32m----> 3\u001b[0;31m \u001b[0mdata\u001b[0m \u001b[0;34m=\u001b[0m \u001b[0mpd\u001b[0m\u001b[0;34m.\u001b[0m\u001b[0mview_txt\u001b[0m\u001b[0;34m(\u001b[0m\u001b[0;34m\"words.txt\"\u001b[0m\u001b[0;34m)\u001b[0m\u001b[0;34m\u001b[0m\u001b[0;34m\u001b[0m\u001b[0m\n\u001b[0m",
            "\u001b[0;32m/usr/local/lib/python3.7/dist-packages/pandas/__init__.py\u001b[0m in \u001b[0;36m__getattr__\u001b[0;34m(name)\u001b[0m\n\u001b[1;32m    242\u001b[0m         \u001b[0;32mreturn\u001b[0m \u001b[0m_SparseArray\u001b[0m\u001b[0;34m\u001b[0m\u001b[0;34m\u001b[0m\u001b[0m\n\u001b[1;32m    243\u001b[0m \u001b[0;34m\u001b[0m\u001b[0m\n\u001b[0;32m--> 244\u001b[0;31m     \u001b[0;32mraise\u001b[0m \u001b[0mAttributeError\u001b[0m\u001b[0;34m(\u001b[0m\u001b[0;34mf\"module 'pandas' has no attribute '{name}'\"\u001b[0m\u001b[0;34m)\u001b[0m\u001b[0;34m\u001b[0m\u001b[0;34m\u001b[0m\u001b[0m\n\u001b[0m\u001b[1;32m    245\u001b[0m \u001b[0;34m\u001b[0m\u001b[0m\n\u001b[1;32m    246\u001b[0m \u001b[0;34m\u001b[0m\u001b[0m\n",
            "\u001b[0;31mAttributeError\u001b[0m: module 'pandas' has no attribute 'view_txt'"
          ]
        }
      ]
    },
    {
      "cell_type": "markdown",
      "source": [
        "![image.png](data:image/png;base64,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)"
      ],
      "metadata": {
        "id": "lVr9ucIy8CNP"
      }
    },
    {
      "cell_type": "markdown",
      "source": [
        "# EXCERCISE *8.4* \n",
        "\n",
        "*   List item\n",
        "*   List item\n",
        "\n"
      ],
      "metadata": {
        "id": "oK-Up6OS8GzJ"
      }
    },
    {
      "cell_type": "code",
      "source": [
        "words =[]\n",
        "from google.colab import drive\n",
        "drive.mount('/content/drive', force_remount=1) \n",
        "fhand = open('romeo.txt.txt' , 'r')\n",
        "for line in  fhand :\n",
        " for word in line.split(' '):\n",
        "    if word not in words :\n",
        "        words.append(word)\n",
        "print(sorted(words))\n",
        "#not in order"
      ],
      "metadata": {
        "id": "jOu1HJfP8Exr",
        "colab": {
          "base_uri": "https://localhost:8080/"
        },
        "outputId": "cc3c2d87-e1e9-4f0f-b0c1-83119bc889cf"
      },
      "execution_count": 193,
      "outputs": [
        {
          "output_type": "stream",
          "name": "stdout",
          "text": [
            "Mounted at /content/drive\n",
            "['Arise', 'But', 'It', 'Juliet', 'Who', 'already', 'and', 'breaks\\n', 'east', 'envious', 'fair', 'grief', 'is', 'kill', 'light', 'moon\\n', 'pale', 'sick', 'soft', 'sun', 'sun\\n', 'the', 'through', 'what', 'window', 'with', 'yonder']\n"
          ]
        }
      ]
    },
    {
      "cell_type": "code",
      "source": [
        "from google.colab import drive\n",
        "drive.mount('/content/drive', force_remount=1)\n",
        "data = input(\"Enter the name of the file you want to be processed\")\n",
        "datas = open(data).read()\n",
        "i=0\n",
        "word=[]\n",
        "words = datas.split()\n",
        "length = len(words)\n",
        "while i < length:\n",
        "  t=list(words)\n",
        "  i=i+1\n",
        "\n",
        "print(t)"
      ],
      "metadata": {
        "id": "6jSbDSx0yjFw",
        "colab": {
          "base_uri": "https://localhost:8080/",
          "height": 270
        },
        "outputId": "69d6cc6f-dfc6-41cf-ca15-f5e37cdeefef"
      },
      "execution_count": 210,
      "outputs": [
        {
          "name": "stdout",
          "output_type": "stream",
          "text": [
            "Mounted at /content/drive\n",
            "Enter the name of the file you want to be processedmbox-short.txt\n"
          ]
        },
        {
          "output_type": "error",
          "ename": "TypeError",
          "evalue": "ignored",
          "traceback": [
            "\u001b[0;31m---------------------------------------------------------------------------\u001b[0m",
            "\u001b[0;31mTypeError\u001b[0m                                 Traceback (most recent call last)",
            "\u001b[0;32m<ipython-input-210-12c401945de3>\u001b[0m in \u001b[0;36m<module>\u001b[0;34m()\u001b[0m\n\u001b[1;32m      8\u001b[0m \u001b[0mlength\u001b[0m \u001b[0;34m=\u001b[0m \u001b[0mlen\u001b[0m\u001b[0;34m(\u001b[0m\u001b[0mwords\u001b[0m\u001b[0;34m)\u001b[0m\u001b[0;34m\u001b[0m\u001b[0;34m\u001b[0m\u001b[0m\n\u001b[1;32m      9\u001b[0m \u001b[0;32mwhile\u001b[0m \u001b[0mi\u001b[0m \u001b[0;34m<\u001b[0m \u001b[0mlength\u001b[0m\u001b[0;34m:\u001b[0m\u001b[0;34m\u001b[0m\u001b[0;34m\u001b[0m\u001b[0m\n\u001b[0;32m---> 10\u001b[0;31m   \u001b[0mt\u001b[0m\u001b[0;34m=\u001b[0m\u001b[0mlist\u001b[0m\u001b[0;34m(\u001b[0m\u001b[0mwords\u001b[0m\u001b[0;34m)\u001b[0m\u001b[0;34m\u001b[0m\u001b[0;34m\u001b[0m\u001b[0m\n\u001b[0m\u001b[1;32m     11\u001b[0m   \u001b[0mi\u001b[0m\u001b[0;34m=\u001b[0m\u001b[0mi\u001b[0m\u001b[0;34m+\u001b[0m\u001b[0;36m1\u001b[0m\u001b[0;34m\u001b[0m\u001b[0;34m\u001b[0m\u001b[0m\n\u001b[1;32m     12\u001b[0m \u001b[0;34m\u001b[0m\u001b[0m\n",
            "\u001b[0;31mTypeError\u001b[0m: 'list' object is not callable"
          ]
        }
      ]
    },
    {
      "cell_type": "markdown",
      "source": [
        "# ***EXCERCISE 8.5***"
      ],
      "metadata": {
        "id": "jwjlGvqM8S04"
      }
    },
    {
      "cell_type": "code",
      "source": [
        "from google.colab import drive\n",
        "drive.mount('/content/drive', force_remount=1)\n",
        "data = input(\"Enter the name of the file you want to be processed\")\n",
        "\n",
        "email_data = open(data).read()\n",
        "words = email_data.split()\n",
        "i = 0\n",
        "count=0\n",
        "length = len(words)\n",
        "\n",
        "while i < length:\n",
        "    if words[i] == \"From\":\n",
        "      #new_word=words[i]\n",
        "      count +=1\n",
        "    i=i+1\n",
        "print(\"There were\" , count ,\"  lines in the file which starts with the word  from\")"
      ],
      "metadata": {
        "id": "AMGpTBwE8TLx",
        "colab": {
          "base_uri": "https://localhost:8080/"
        },
        "outputId": "23b70bb9-b771-4a95-df9e-640d8e4b5afe"
      },
      "execution_count": 199,
      "outputs": [
        {
          "output_type": "stream",
          "name": "stdout",
          "text": [
            "Mounted at /content/drive\n",
            "Enter the name of the file you want to be processedmbox.txt\n",
            "There were 5394   lines in the file which starts with the word  from\n"
          ]
        }
      ]
    },
    {
      "cell_type": "markdown",
      "source": [
        "# ***EXCERCISE 8.6***"
      ],
      "metadata": {
        "id": "2OV-Cbmn8kx3"
      }
    },
    {
      "cell_type": "code",
      "source": [
        "my_nums = []\n",
        "\n",
        "while True:\n",
        "  a = input(\"Enter a number:\")\n",
        "  if a == 'done' :\n",
        "    break\n",
        "  try:\n",
        "    val = float(a)\n",
        "  except:\n",
        "    print(\"invalid input\")\n",
        "    continue\n",
        "  my_nums.append(val)\n",
        " \n",
        "\n",
        "print(min(my_nums) )\n",
        "print(max(my_nums))"
      ],
      "metadata": {
        "id": "TxaC1yfh8k_o",
        "colab": {
          "base_uri": "https://localhost:8080/"
        },
        "outputId": "a6ecfcf4-7b21-47f7-b217-356f39cd4f69"
      },
      "execution_count": 200,
      "outputs": [
        {
          "output_type": "stream",
          "name": "stdout",
          "text": [
            "Enter a number:12\n",
            "Enter a number:344\n",
            "Enter a number:34\n",
            "Enter a number:32\n",
            "Enter a number:done\n",
            "12.0\n",
            "344.0\n"
          ]
        }
      ]
    },
    {
      "cell_type": "markdown",
      "source": [
        "![image.png](data:image/png;base64,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)\n",
        "\n"
      ],
      "metadata": {
        "id": "hada6qal8-sg"
      }
    },
    {
      "cell_type": "markdown",
      "source": [
        "EXCERCISE 9.1"
      ],
      "metadata": {
        "id": "II5Fj_yT9gC3"
      }
    },
    {
      "cell_type": "code",
      "source": [
        "from google.colab import drive\n",
        "drive.mount('/content/drive', force_remount=1)\n",
        "data = input(\"Enter the name of the file you want to be processed\")\n",
        "email_data = open(data).read()\n",
        "days = dict()\n",
        "words = email_data.split()\n",
        "\n",
        "i = 0\n",
        "length = len(words)\n",
        "\n",
        "while i < length:\n",
        "    if words[i] == \"From\":\n",
        "        days[words[i+2]] = days.get(words[i+2],0) + 1\n",
        "    i = i + 1\n",
        "\n",
        "print(days)\n",
        "#howmNY mails on particular day"
      ],
      "metadata": {
        "id": "bF0w1pIa9qe4",
        "colab": {
          "base_uri": "https://localhost:8080/"
        },
        "outputId": "068e7c4b-4d1d-4bed-ef26-a111f02afae5"
      },
      "execution_count": 201,
      "outputs": [
        {
          "output_type": "stream",
          "name": "stdout",
          "text": [
            "Mounted at /content/drive\n",
            "Enter the name of the file you want to be processedmbox.txt\n",
            "{'Sat': 183, 'Fri': 945, 'Thu': 1176, 'Wed': 876, 'Tue': 1116, 'Mon': 897, 'Sun': 198, 'Page': 3}\n"
          ]
        }
      ]
    },
    {
      "cell_type": "markdown",
      "source": [
        "EXCERCISE 9.3"
      ],
      "metadata": {
        "id": "Y5npx_et9usM"
      }
    },
    {
      "cell_type": "code",
      "source": [
        "from google.colab import drive\n",
        "drive.mount('/content/drive', force_remount=1)\n",
        "data = input(\"Enter the name of the file you want to be processed\")\n",
        "email_data = open(data).read()\n",
        "sender = dict()\n",
        "#days = dict()\n",
        "words = email_data.split()\n",
        "\n",
        "i = 0\n",
        "length = len(words)\n",
        "\n",
        "while i < length:\n",
        "    if words[i] == \"From\":\n",
        "        #days[words[i+2]] = days.get(words[i+2],0) + 1\n",
        "        sender[words[i+1]] = sender.get(words[i+1],0) + 1\n",
        "    i = i + 1\n",
        "\n",
        "#print(days)\n",
        "print(sender)"
      ],
      "metadata": {
        "id": "_HxT9bOO9xEE",
        "colab": {
          "base_uri": "https://localhost:8080/"
        },
        "outputId": "9a562423-6e3f-416d-8db7-b12c78385f9c"
      },
      "execution_count": 202,
      "outputs": [
        {
          "output_type": "stream",
          "name": "stdout",
          "text": [
            "Mounted at /content/drive\n",
            "Enter the name of the file you want to be processedmbox.txt\n",
            "{'stephen.marquard@uct.ac.za': 87, 'louis@media.berkeley.edu': 72, 'zqian@umich.edu': 585, 'rjlowe@iupui.edu': 270, 'cwen@iupui.edu': 474, 'gsilver@umich.edu': 84, 'wagnermr@iupui.edu': 132, 'antranig@caret.cam.ac.uk': 54, 'gopal.ramasammycook@gmail.com': 75, 'david.horwitz@uct.ac.za': 201, 'ray@media.berkeley.edu': 96, 'mmmay@indiana.edu': 483, 'stuart.freeman@et.gatech.edu': 51, 'tnguyen@iupui.edu': 18, 'chmaurer@iupui.edu': 333, 'aaronz@vt.edu': 330, 'ian@caret.cam.ac.uk': 288, 'csev@umich.edu': 57, 'jimeng@umich.edu': 279, 'josrodri@iupui.edu': 84, 'knoop@umich.edu': 15, 'bkirschn@umich.edu': 81, 'dlhaines@umich.edu': 252, 'hu2@iupui.edu': 21, 'sgithens@caret.cam.ac.uk': 129, 'arwhyte@umich.edu': 81, 'gbhatnag@umich.edu': 9, 'gjthomas@iupui.edu': 132, 'a.fish@lancaster.ac.uk': 42, 'Site': 3, 'ajpoland@iupui.edu': 144, 'lance@indiana.edu': 24, 'ssmail@indiana.edu': 15, 'jlrenfro@ucdavis.edu': 3, 'nuno@ufp.pt': 84, 'zach.thomas@txstate.edu': 51, 'ktsao@stanford.edu': 36, 'ostermmg@whitman.edu': 51, 'john.ellis@rsmart.com': 24, 'jleasia@umich.edu': 6, 'ggolden@umich.edu': 24, 'thoppaymallika@fhda.edu': 3, 'kimsooil@bu.edu': 42, 'bahollad@indiana.edu': 12, 'jzaremba@unicon.net': 27, 'mbreuker@loi.nl': 27, 'colin.clark@utoronto.ca': 3}\n"
          ]
        }
      ]
    },
    {
      "cell_type": "markdown",
      "source": [
        "\n",
        "# ***9.4***\n",
        "\n",
        "\n"
      ],
      "metadata": {
        "id": "zIxfI1Qs3GWD"
      }
    },
    {
      "cell_type": "code",
      "source": [
        "from google.colab import drive\n",
        "drive.mount('/content/drive', force_remount=1)\n",
        "data = input(\"Enter the name of the file you want to be processed\")\n",
        "email_data = open(data).read()\n",
        "domains = dict()\n",
        "\n",
        "words = email_data.split()\n",
        "\n",
        "i = 0\n",
        "length = len(words)\n",
        "\n",
        "while i < length:\n",
        "    if words[i] == \"From\":\n",
        "        emails=words[i+1]\n",
        "        domain=emails.split('@')\n",
        "        domains[domain[1]]=domains.get(domain[1],0)+1\n",
        "    i = i + 1\n",
        "\n",
        "\n",
        "print(domains)"
      ],
      "metadata": {
        "id": "k1fgkt6O3HKC",
        "colab": {
          "base_uri": "https://localhost:8080/"
        },
        "outputId": "4e551929-0bc3-43b9-9cc2-8cb77f3fb531"
      },
      "execution_count": 206,
      "outputs": [
        {
          "output_type": "stream",
          "name": "stdout",
          "text": [
            "Mounted at /content/drive\n",
            "Enter the name of the file you want to be processedmbox-short.txt\n",
            "{'uct.ac.za': 6, 'media.berkeley.edu': 4, 'umich.edu': 7, 'iupui.edu': 8, 'caret.cam.ac.uk': 1, 'gmail.com': 1}\n"
          ]
        }
      ]
    },
    {
      "cell_type": "markdown",
      "source": [
        "EXCERCISE 9.5"
      ],
      "metadata": {
        "id": "EP4J7LmD99Qx"
      }
    },
    {
      "cell_type": "code",
      "source": [
        "from google.colab import drive\n",
        "drive.mount('/content/drive', force_remount=1)\n",
        "data = input(\"Enter the name of the file you want to be processed\")\n",
        "email_data = open(data).read()\n",
        "sender = dict()\n",
        "#days = dict()\n",
        "words = email_data.split()\n",
        "\n",
        "i = 0\n",
        "length = len(words)\n",
        "\n",
        "while i < length:\n",
        "    if words[i] == \"From\":\n",
        "        #days[words[i+2]] = days.get(words[i+2],0) + 1\n",
        "        sender[words[i+1]] = sender.get(words[i+1],0) + 1\n",
        "    i=i+1\n",
        "#print(sender)    \n",
        "max_address = None\n",
        "max_emails = 0\n",
        "for k in sender:\n",
        "    if sender[k] > max_emails:\n",
        "      max_address = k\n",
        "      max_emails = sender[k]\n",
        "\n",
        "#print(days)\n",
        "print(max_address,max_emails)"
      ],
      "metadata": {
        "id": "KQXjs3Q-9_FB",
        "colab": {
          "base_uri": "https://localhost:8080/"
        },
        "outputId": "80d1443c-ab30-4ea5-c8d5-7dbd67bb4dc9"
      },
      "execution_count": 207,
      "outputs": [
        {
          "output_type": "stream",
          "name": "stdout",
          "text": [
            "Mounted at /content/drive\n",
            "Enter the name of the file you want to be processedmbox-short.txt\n",
            "cwen@iupui.edu 5\n"
          ]
        }
      ]
    },
    {
      "cell_type": "markdown",
      "source": [
        "# ***tuplels***"
      ],
      "metadata": {
        "id": "KUiZLe19Id3A"
      }
    },
    {
      "cell_type": "code",
      "source": [
        "data = input(\"Enter the name of the file you want to be processed\")\n",
        "email_data = open(data).read()\n",
        "sender = dict()\n",
        "#days = dict()\n",
        "words = email_data.split()\n",
        "\n",
        "i = 0\n",
        "length = len(words)\n",
        "\n",
        "while i < length:\n",
        "    if words[i] == \"From\":\n",
        "        #days[words[i+2]] = days.get(words[i+2],0) + 1\n",
        "        sender[words[i+1]] = sender.get(words[i+1],0) + 1\n",
        "    i = i + 1\n",
        "\n",
        "#print(days)\n",
        "#print(sender)\n",
        "\n",
        "lst=[]\n",
        "\n",
        "for key,value in sender.items():#creates a list of dictnary;s (key,value) pair in tuple pairs\n",
        "  lst.append((value,key))\n",
        "  \n",
        "lst.sort(reverse=True)\n",
        "print(lst[0])"
      ],
      "metadata": {
        "id": "u_Gp2km_IffL",
        "colab": {
          "base_uri": "https://localhost:8080/"
        },
        "outputId": "da5a786b-7e32-400b-c258-dcd5096fb419"
      },
      "execution_count": 208,
      "outputs": [
        {
          "output_type": "stream",
          "name": "stdout",
          "text": [
            "Enter the name of the file you want to be processedmbox-short.txt\n",
            "(5, 'cwen@iupui.edu')\n"
          ]
        }
      ]
    },
    {
      "cell_type": "code",
      "source": [
        "data = input(\"Enter the name of the file you want to be processed\")\n",
        "email_data = open(data).read()\n",
        "hours_of_day = dict()\n",
        "#days = dict()\n",
        "words = email_data.split()\n",
        "i = 0\n",
        "length = len(words)\n",
        "\n",
        "while i < length:\n",
        "    if words[i] == \"From\":\n",
        "        #days[words[i+2]] = days.get(words[i+2],0) + 1\n",
        "        #sender[words[i+1]] = sender.get(words[i+1],0) + 1\n",
        "        time=words[i+5]\n",
        "        time = time.split(\":\")\n",
        "        hours_of_day[time[0]] = hours_of_day.get(time[0],0) + 1\n",
        "    i = i + 1\n",
        "#print(hours_of_day)\n",
        "lst=[]\n",
        "\n",
        "for key,value in hours_of_day.items():#creates a list of dictnary;s (key,value) pair in tuple pairs\n",
        "  lst.append((key,value))\n",
        "  \n",
        "lst.sort()\n",
        "#print(lst)\n",
        "for t in lst :\n",
        "  print(t[0],t[1])"
      ],
      "metadata": {
        "id": "1atb5ACwIla3",
        "colab": {
          "base_uri": "https://localhost:8080/"
        },
        "outputId": "b23e38ee-8889-4e80-edbe-74f23e7b7813"
      },
      "execution_count": 209,
      "outputs": [
        {
          "output_type": "stream",
          "name": "stdout",
          "text": [
            "Enter the name of the file you want to be processedmbox-short.txt\n",
            "04 3\n",
            "06 1\n",
            "07 1\n",
            "09 2\n",
            "10 3\n",
            "11 6\n",
            "14 1\n",
            "15 2\n",
            "16 4\n",
            "17 2\n",
            "18 1\n",
            "19 1\n"
          ]
        }
      ]
    }
  ]
}